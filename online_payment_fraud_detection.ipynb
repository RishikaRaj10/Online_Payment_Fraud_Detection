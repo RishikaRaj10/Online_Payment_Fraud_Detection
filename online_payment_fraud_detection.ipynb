{
 "cells": [
  {
   "cell_type": "code",
   "execution_count": 1,
   "id": "06213ba9",
   "metadata": {},
   "outputs": [],
   "source": [
    "import numpy as np\n",
    "import pandas as pd\n",
    "import matplotlib.pyplot as plt\n",
    "import seaborn as sns"
   ]
  },
  {
   "cell_type": "code",
   "execution_count": 2,
   "id": "261301ba",
   "metadata": {},
   "outputs": [],
   "source": [
    "df = pd.read_csv('onlinefraud.csv')"
   ]
  },
  {
   "cell_type": "code",
   "execution_count": 3,
   "id": "d2f233e6",
   "metadata": {},
   "outputs": [
    {
     "data": {
      "text/html": [
       "<div>\n",
       "<style scoped>\n",
       "    .dataframe tbody tr th:only-of-type {\n",
       "        vertical-align: middle;\n",
       "    }\n",
       "\n",
       "    .dataframe tbody tr th {\n",
       "        vertical-align: top;\n",
       "    }\n",
       "\n",
       "    .dataframe thead th {\n",
       "        text-align: right;\n",
       "    }\n",
       "</style>\n",
       "<table border=\"1\" class=\"dataframe\">\n",
       "  <thead>\n",
       "    <tr style=\"text-align: right;\">\n",
       "      <th></th>\n",
       "      <th>step</th>\n",
       "      <th>type</th>\n",
       "      <th>amount</th>\n",
       "      <th>nameOrig</th>\n",
       "      <th>oldbalanceOrg</th>\n",
       "      <th>newbalanceOrig</th>\n",
       "      <th>nameDest</th>\n",
       "      <th>oldbalanceDest</th>\n",
       "      <th>newbalanceDest</th>\n",
       "      <th>isFraud</th>\n",
       "      <th>isFlaggedFraud</th>\n",
       "    </tr>\n",
       "  </thead>\n",
       "  <tbody>\n",
       "    <tr>\n",
       "      <th>0</th>\n",
       "      <td>1</td>\n",
       "      <td>PAYMENT</td>\n",
       "      <td>9839.64</td>\n",
       "      <td>C1231006815</td>\n",
       "      <td>170136.0</td>\n",
       "      <td>160296.36</td>\n",
       "      <td>M1979787155</td>\n",
       "      <td>0.0</td>\n",
       "      <td>0.0</td>\n",
       "      <td>0</td>\n",
       "      <td>0</td>\n",
       "    </tr>\n",
       "    <tr>\n",
       "      <th>1</th>\n",
       "      <td>1</td>\n",
       "      <td>PAYMENT</td>\n",
       "      <td>1864.28</td>\n",
       "      <td>C1666544295</td>\n",
       "      <td>21249.0</td>\n",
       "      <td>19384.72</td>\n",
       "      <td>M2044282225</td>\n",
       "      <td>0.0</td>\n",
       "      <td>0.0</td>\n",
       "      <td>0</td>\n",
       "      <td>0</td>\n",
       "    </tr>\n",
       "    <tr>\n",
       "      <th>2</th>\n",
       "      <td>1</td>\n",
       "      <td>TRANSFER</td>\n",
       "      <td>181.00</td>\n",
       "      <td>C1305486145</td>\n",
       "      <td>181.0</td>\n",
       "      <td>0.00</td>\n",
       "      <td>C553264065</td>\n",
       "      <td>0.0</td>\n",
       "      <td>0.0</td>\n",
       "      <td>1</td>\n",
       "      <td>0</td>\n",
       "    </tr>\n",
       "    <tr>\n",
       "      <th>3</th>\n",
       "      <td>1</td>\n",
       "      <td>CASH_OUT</td>\n",
       "      <td>181.00</td>\n",
       "      <td>C840083671</td>\n",
       "      <td>181.0</td>\n",
       "      <td>0.00</td>\n",
       "      <td>C38997010</td>\n",
       "      <td>21182.0</td>\n",
       "      <td>0.0</td>\n",
       "      <td>1</td>\n",
       "      <td>0</td>\n",
       "    </tr>\n",
       "    <tr>\n",
       "      <th>4</th>\n",
       "      <td>1</td>\n",
       "      <td>PAYMENT</td>\n",
       "      <td>11668.14</td>\n",
       "      <td>C2048537720</td>\n",
       "      <td>41554.0</td>\n",
       "      <td>29885.86</td>\n",
       "      <td>M1230701703</td>\n",
       "      <td>0.0</td>\n",
       "      <td>0.0</td>\n",
       "      <td>0</td>\n",
       "      <td>0</td>\n",
       "    </tr>\n",
       "  </tbody>\n",
       "</table>\n",
       "</div>"
      ],
      "text/plain": [
       "   step      type    amount     nameOrig  oldbalanceOrg  newbalanceOrig  \\\n",
       "0     1   PAYMENT   9839.64  C1231006815       170136.0       160296.36   \n",
       "1     1   PAYMENT   1864.28  C1666544295        21249.0        19384.72   \n",
       "2     1  TRANSFER    181.00  C1305486145          181.0            0.00   \n",
       "3     1  CASH_OUT    181.00   C840083671          181.0            0.00   \n",
       "4     1   PAYMENT  11668.14  C2048537720        41554.0        29885.86   \n",
       "\n",
       "      nameDest  oldbalanceDest  newbalanceDest  isFraud  isFlaggedFraud  \n",
       "0  M1979787155             0.0             0.0        0               0  \n",
       "1  M2044282225             0.0             0.0        0               0  \n",
       "2   C553264065             0.0             0.0        1               0  \n",
       "3    C38997010         21182.0             0.0        1               0  \n",
       "4  M1230701703             0.0             0.0        0               0  "
      ]
     },
     "execution_count": 3,
     "metadata": {},
     "output_type": "execute_result"
    }
   ],
   "source": [
    "df.head()"
   ]
  },
  {
   "cell_type": "code",
   "execution_count": 4,
   "id": "c7110674",
   "metadata": {},
   "outputs": [
    {
     "data": {
      "text/plain": [
       "(6362620, 11)"
      ]
     },
     "execution_count": 4,
     "metadata": {},
     "output_type": "execute_result"
    }
   ],
   "source": [
    "df.shape"
   ]
  },
  {
   "cell_type": "code",
   "execution_count": 5,
   "id": "ec560a96",
   "metadata": {},
   "outputs": [],
   "source": [
    "df.drop('isFlaggedFraud',axis=1,inplace=True)"
   ]
  },
  {
   "cell_type": "code",
   "execution_count": 6,
   "id": "a6574b5e",
   "metadata": {},
   "outputs": [
    {
     "data": {
      "text/plain": [
       "(6362620, 10)"
      ]
     },
     "execution_count": 6,
     "metadata": {},
     "output_type": "execute_result"
    }
   ],
   "source": [
    "df.shape"
   ]
  },
  {
   "cell_type": "code",
   "execution_count": 7,
   "id": "3fff1e04",
   "metadata": {},
   "outputs": [
    {
     "name": "stdout",
     "output_type": "stream",
     "text": [
      "<class 'pandas.core.frame.DataFrame'>\n",
      "RangeIndex: 6362620 entries, 0 to 6362619\n",
      "Data columns (total 10 columns):\n",
      " #   Column          Dtype  \n",
      "---  ------          -----  \n",
      " 0   step            int64  \n",
      " 1   type            object \n",
      " 2   amount          float64\n",
      " 3   nameOrig        object \n",
      " 4   oldbalanceOrg   float64\n",
      " 5   newbalanceOrig  float64\n",
      " 6   nameDest        object \n",
      " 7   oldbalanceDest  float64\n",
      " 8   newbalanceDest  float64\n",
      " 9   isFraud         int64  \n",
      "dtypes: float64(5), int64(2), object(3)\n",
      "memory usage: 485.4+ MB\n"
     ]
    }
   ],
   "source": [
    "df.info()"
   ]
  },
  {
   "cell_type": "code",
   "execution_count": 8,
   "id": "fb74cde0",
   "metadata": {},
   "outputs": [
    {
     "data": {
      "text/html": [
       "<div>\n",
       "<style scoped>\n",
       "    .dataframe tbody tr th:only-of-type {\n",
       "        vertical-align: middle;\n",
       "    }\n",
       "\n",
       "    .dataframe tbody tr th {\n",
       "        vertical-align: top;\n",
       "    }\n",
       "\n",
       "    .dataframe thead th {\n",
       "        text-align: right;\n",
       "    }\n",
       "</style>\n",
       "<table border=\"1\" class=\"dataframe\">\n",
       "  <thead>\n",
       "    <tr style=\"text-align: right;\">\n",
       "      <th></th>\n",
       "      <th>step</th>\n",
       "      <th>amount</th>\n",
       "      <th>oldbalanceOrg</th>\n",
       "      <th>newbalanceOrig</th>\n",
       "      <th>oldbalanceDest</th>\n",
       "      <th>newbalanceDest</th>\n",
       "      <th>isFraud</th>\n",
       "    </tr>\n",
       "  </thead>\n",
       "  <tbody>\n",
       "    <tr>\n",
       "      <th>count</th>\n",
       "      <td>6.362620e+06</td>\n",
       "      <td>6.362620e+06</td>\n",
       "      <td>6.362620e+06</td>\n",
       "      <td>6.362620e+06</td>\n",
       "      <td>6.362620e+06</td>\n",
       "      <td>6.362620e+06</td>\n",
       "      <td>6.362620e+06</td>\n",
       "    </tr>\n",
       "    <tr>\n",
       "      <th>mean</th>\n",
       "      <td>2.433972e+02</td>\n",
       "      <td>1.798619e+05</td>\n",
       "      <td>8.338831e+05</td>\n",
       "      <td>8.551137e+05</td>\n",
       "      <td>1.100702e+06</td>\n",
       "      <td>1.224996e+06</td>\n",
       "      <td>1.290820e-03</td>\n",
       "    </tr>\n",
       "    <tr>\n",
       "      <th>std</th>\n",
       "      <td>1.423320e+02</td>\n",
       "      <td>6.038582e+05</td>\n",
       "      <td>2.888243e+06</td>\n",
       "      <td>2.924049e+06</td>\n",
       "      <td>3.399180e+06</td>\n",
       "      <td>3.674129e+06</td>\n",
       "      <td>3.590480e-02</td>\n",
       "    </tr>\n",
       "    <tr>\n",
       "      <th>min</th>\n",
       "      <td>1.000000e+00</td>\n",
       "      <td>0.000000e+00</td>\n",
       "      <td>0.000000e+00</td>\n",
       "      <td>0.000000e+00</td>\n",
       "      <td>0.000000e+00</td>\n",
       "      <td>0.000000e+00</td>\n",
       "      <td>0.000000e+00</td>\n",
       "    </tr>\n",
       "    <tr>\n",
       "      <th>25%</th>\n",
       "      <td>1.560000e+02</td>\n",
       "      <td>1.338957e+04</td>\n",
       "      <td>0.000000e+00</td>\n",
       "      <td>0.000000e+00</td>\n",
       "      <td>0.000000e+00</td>\n",
       "      <td>0.000000e+00</td>\n",
       "      <td>0.000000e+00</td>\n",
       "    </tr>\n",
       "    <tr>\n",
       "      <th>50%</th>\n",
       "      <td>2.390000e+02</td>\n",
       "      <td>7.487194e+04</td>\n",
       "      <td>1.420800e+04</td>\n",
       "      <td>0.000000e+00</td>\n",
       "      <td>1.327057e+05</td>\n",
       "      <td>2.146614e+05</td>\n",
       "      <td>0.000000e+00</td>\n",
       "    </tr>\n",
       "    <tr>\n",
       "      <th>75%</th>\n",
       "      <td>3.350000e+02</td>\n",
       "      <td>2.087215e+05</td>\n",
       "      <td>1.073152e+05</td>\n",
       "      <td>1.442584e+05</td>\n",
       "      <td>9.430367e+05</td>\n",
       "      <td>1.111909e+06</td>\n",
       "      <td>0.000000e+00</td>\n",
       "    </tr>\n",
       "    <tr>\n",
       "      <th>max</th>\n",
       "      <td>7.430000e+02</td>\n",
       "      <td>9.244552e+07</td>\n",
       "      <td>5.958504e+07</td>\n",
       "      <td>4.958504e+07</td>\n",
       "      <td>3.560159e+08</td>\n",
       "      <td>3.561793e+08</td>\n",
       "      <td>1.000000e+00</td>\n",
       "    </tr>\n",
       "  </tbody>\n",
       "</table>\n",
       "</div>"
      ],
      "text/plain": [
       "               step        amount  oldbalanceOrg  newbalanceOrig  \\\n",
       "count  6.362620e+06  6.362620e+06   6.362620e+06    6.362620e+06   \n",
       "mean   2.433972e+02  1.798619e+05   8.338831e+05    8.551137e+05   \n",
       "std    1.423320e+02  6.038582e+05   2.888243e+06    2.924049e+06   \n",
       "min    1.000000e+00  0.000000e+00   0.000000e+00    0.000000e+00   \n",
       "25%    1.560000e+02  1.338957e+04   0.000000e+00    0.000000e+00   \n",
       "50%    2.390000e+02  7.487194e+04   1.420800e+04    0.000000e+00   \n",
       "75%    3.350000e+02  2.087215e+05   1.073152e+05    1.442584e+05   \n",
       "max    7.430000e+02  9.244552e+07   5.958504e+07    4.958504e+07   \n",
       "\n",
       "       oldbalanceDest  newbalanceDest       isFraud  \n",
       "count    6.362620e+06    6.362620e+06  6.362620e+06  \n",
       "mean     1.100702e+06    1.224996e+06  1.290820e-03  \n",
       "std      3.399180e+06    3.674129e+06  3.590480e-02  \n",
       "min      0.000000e+00    0.000000e+00  0.000000e+00  \n",
       "25%      0.000000e+00    0.000000e+00  0.000000e+00  \n",
       "50%      1.327057e+05    2.146614e+05  0.000000e+00  \n",
       "75%      9.430367e+05    1.111909e+06  0.000000e+00  \n",
       "max      3.560159e+08    3.561793e+08  1.000000e+00  "
      ]
     },
     "execution_count": 8,
     "metadata": {},
     "output_type": "execute_result"
    }
   ],
   "source": [
    "df.describe()"
   ]
  },
  {
   "cell_type": "code",
   "execution_count": 9,
   "id": "51ceb1d6",
   "metadata": {},
   "outputs": [
    {
     "data": {
      "text/plain": [
       "step              0\n",
       "type              0\n",
       "amount            0\n",
       "nameOrig          0\n",
       "oldbalanceOrg     0\n",
       "newbalanceOrig    0\n",
       "nameDest          0\n",
       "oldbalanceDest    0\n",
       "newbalanceDest    0\n",
       "isFraud           0\n",
       "dtype: int64"
      ]
     },
     "execution_count": 9,
     "metadata": {},
     "output_type": "execute_result"
    }
   ],
   "source": [
    "df.isnull().sum()"
   ]
  },
  {
   "cell_type": "code",
   "execution_count": 10,
   "id": "d8c0713d",
   "metadata": {},
   "outputs": [
    {
     "data": {
      "text/plain": [
       "0"
      ]
     },
     "execution_count": 10,
     "metadata": {},
     "output_type": "execute_result"
    }
   ],
   "source": [
    "df.duplicated().sum()"
   ]
  },
  {
   "cell_type": "code",
   "execution_count": 11,
   "id": "e7afd203",
   "metadata": {},
   "outputs": [
    {
     "data": {
      "text/html": [
       "<div>\n",
       "<style scoped>\n",
       "    .dataframe tbody tr th:only-of-type {\n",
       "        vertical-align: middle;\n",
       "    }\n",
       "\n",
       "    .dataframe tbody tr th {\n",
       "        vertical-align: top;\n",
       "    }\n",
       "\n",
       "    .dataframe thead th {\n",
       "        text-align: right;\n",
       "    }\n",
       "</style>\n",
       "<table border=\"1\" class=\"dataframe\">\n",
       "  <thead>\n",
       "    <tr style=\"text-align: right;\">\n",
       "      <th></th>\n",
       "      <th>type</th>\n",
       "      <th>nameOrig</th>\n",
       "      <th>nameDest</th>\n",
       "    </tr>\n",
       "  </thead>\n",
       "  <tbody>\n",
       "    <tr>\n",
       "      <th>count</th>\n",
       "      <td>6362620</td>\n",
       "      <td>6362620</td>\n",
       "      <td>6362620</td>\n",
       "    </tr>\n",
       "    <tr>\n",
       "      <th>unique</th>\n",
       "      <td>5</td>\n",
       "      <td>6353307</td>\n",
       "      <td>2722362</td>\n",
       "    </tr>\n",
       "    <tr>\n",
       "      <th>top</th>\n",
       "      <td>CASH_OUT</td>\n",
       "      <td>C1902386530</td>\n",
       "      <td>C1286084959</td>\n",
       "    </tr>\n",
       "    <tr>\n",
       "      <th>freq</th>\n",
       "      <td>2237500</td>\n",
       "      <td>3</td>\n",
       "      <td>113</td>\n",
       "    </tr>\n",
       "  </tbody>\n",
       "</table>\n",
       "</div>"
      ],
      "text/plain": [
       "            type     nameOrig     nameDest\n",
       "count    6362620      6362620      6362620\n",
       "unique         5      6353307      2722362\n",
       "top     CASH_OUT  C1902386530  C1286084959\n",
       "freq     2237500            3          113"
      ]
     },
     "execution_count": 11,
     "metadata": {},
     "output_type": "execute_result"
    }
   ],
   "source": [
    "df.describe(include = 'object')              ## categorical data"
   ]
  },
  {
   "cell_type": "code",
   "execution_count": 12,
   "id": "36e0cdfc",
   "metadata": {},
   "outputs": [
    {
     "name": "stdout",
     "output_type": "stream",
     "text": [
      "Categorical variables: 3\n",
      "Integer variables: 2\n",
      "Float variables: 5\n"
     ]
    }
   ],
   "source": [
    "obj = (df.dtypes == 'object')\n",
    "object_cols = list(obj[obj].index)\n",
    "print(\"Categorical variables:\", len(object_cols))\n",
    " \n",
    "int_ = (df.dtypes == 'int64')\n",
    "num_cols = list(int_[int_].index)\n",
    "print(\"Integer variables:\", len(num_cols))\n",
    " \n",
    "fl = (df.dtypes == 'float')\n",
    "fl_cols = list(fl[fl].index)\n",
    "print(\"Float variables:\", len(fl_cols))"
   ]
  },
  {
   "cell_type": "code",
   "execution_count": null,
   "id": "70f5d79f",
   "metadata": {},
   "outputs": [],
   "source": []
  },
  {
   "cell_type": "code",
   "execution_count": 13,
   "id": "d82fd7c4",
   "metadata": {},
   "outputs": [
    {
     "data": {
      "text/plain": [
       "0    6354407\n",
       "1       8213\n",
       "Name: isFraud, dtype: int64"
      ]
     },
     "execution_count": 13,
     "metadata": {},
     "output_type": "execute_result"
    }
   ],
   "source": [
    "df['isFraud'].value_counts()"
   ]
  },
  {
   "cell_type": "code",
   "execution_count": 14,
   "id": "acb84d6f",
   "metadata": {},
   "outputs": [
    {
     "data": {
      "text/plain": [
       "CASH_OUT    2237500\n",
       "PAYMENT     2151495\n",
       "CASH_IN     1399284\n",
       "TRANSFER     532909\n",
       "DEBIT         41432\n",
       "Name: type, dtype: int64"
      ]
     },
     "execution_count": 14,
     "metadata": {},
     "output_type": "execute_result"
    }
   ],
   "source": [
    "## counting no. of payment in each payment type\n",
    "\n",
    "df['type'].value_counts()"
   ]
  },
  {
   "cell_type": "code",
   "execution_count": 15,
   "id": "f37ba885",
   "metadata": {},
   "outputs": [
    {
     "data": {
      "text/plain": [
       "<AxesSubplot:xlabel='isFraud', ylabel='count'>"
      ]
     },
     "execution_count": 15,
     "metadata": {},
     "output_type": "execute_result"
    },
    {
     "data": {
      "image/png": "[encoded data removed]",
      "text/plain": [
       "<Figure size 600x400 with 1 Axes>"
      ]
     },
     "metadata": {},
     "output_type": "display_data"
    }
   ],
   "source": [
    "## plotting isfraud\n",
    "\n",
    "plt.figure(figsize = (6,4))\n",
    "sns.countplot(x='isFraud', data=df)"
   ]
  },
  {
   "cell_type": "markdown",
   "id": "3bf1e882",
   "metadata": {},
   "source": [
    "* There are much more non-fraudulent transactions than fraudulent transactions.\n",
    "* Both classes are not in proportion that is we have imbalanced dataset."
   ]
  },
  {
   "cell_type": "code",
   "execution_count": 16,
   "id": "91a562bd",
   "metadata": {},
   "outputs": [
    {
     "data": {
      "text/plain": [
       "<AxesSubplot:ylabel='isFraud'>"
      ]
     },
     "execution_count": 16,
     "metadata": {},
     "output_type": "execute_result"
    },
    {
     "data": {
      "image/png": "[encoded data removed]",
      "text/plain": [
       "<Figure size 500x600 with 1 Axes>"
      ]
     },
     "metadata": {},
     "output_type": "display_data"
    }
   ],
   "source": [
    "plt.figure(figsize=(5,6))\n",
    "df['isFraud'].value_counts().plot(kind='pie', labels=[0,1], explode=[0,0.1])"
   ]
  },
  {
   "cell_type": "code",
   "execution_count": 17,
   "id": "5d88965f",
   "metadata": {},
   "outputs": [
    {
     "data": {
      "text/plain": [
       "10000000.00    3207\n",
       "10000.00         88\n",
       "5000.00          79\n",
       "15000.00         68\n",
       "500.00           65\n",
       "               ... \n",
       "8513.48           1\n",
       "189137.90         1\n",
       "1615.78           1\n",
       "128891.19         1\n",
       "12257.89          1\n",
       "Name: amount, Length: 5316900, dtype: int64"
      ]
     },
     "execution_count": 17,
     "metadata": {},
     "output_type": "execute_result"
    }
   ],
   "source": [
    "df['amount'].value_counts()"
   ]
  },
  {
   "cell_type": "code",
   "execution_count": 18,
   "id": "2ac90d13",
   "metadata": {},
   "outputs": [
    {
     "name": "stderr",
     "output_type": "stream",
     "text": [
      "C:\\Users\\Rishika\\anaconda3\\lib\\site-packages\\seaborn\\_decorators.py:36: FutureWarning: Pass the following variable as a keyword arg: x. From version 0.12, the only valid positional argument will be `data`, and passing other arguments without an explicit keyword will result in an error or misinterpretation.\n",
      "  warnings.warn(\n"
     ]
    },
    {
     "data": {
      "image/png": "[encoded data removed]",
      "text/plain": [
       "<Figure size 640x480 with 1 Axes>"
      ]
     },
     "metadata": {},
     "output_type": "display_data"
    }
   ],
   "source": [
    "## outlier\n",
    "sns.boxplot(df['amount'])\n",
    "plt.xlabel('Amount')\n",
    "plt.ylabel('Range')\n",
    "plt.show()"
   ]
  },
  {
   "cell_type": "code",
   "execution_count": 19,
   "id": "6910db53",
   "metadata": {},
   "outputs": [
    {
     "data": {
      "text/plain": [
       "Index(['step', 'type', 'amount', 'nameOrig', 'oldbalanceOrg', 'newbalanceOrig',\n",
       "       'nameDest', 'oldbalanceDest', 'newbalanceDest', 'isFraud'],\n",
       "      dtype='object')"
      ]
     },
     "execution_count": 19,
     "metadata": {},
     "output_type": "execute_result"
    }
   ],
   "source": [
    "df.columns"
   ]
  },
  {
   "cell_type": "markdown",
   "id": "c1b7b135",
   "metadata": {},
   "source": [
    "## univariate analysis"
   ]
  },
  {
   "cell_type": "code",
   "execution_count": 20,
   "id": "6b47caae",
   "metadata": {},
   "outputs": [
    {
     "data": {
      "image/png": "[encoded data removed]",
      "text/plain": [
       "<Figure size 640x480 with 1 Axes>"
      ]
     },
     "metadata": {},
     "output_type": "display_data"
    }
   ],
   "source": [
    "## pie chart for categorical feature\n",
    "\n",
    "plt.pie(x=df['type'].value_counts(), labels=['c_o','p','c_i','t','d'])\n",
    "plt.show()"
   ]
  },
  {
   "cell_type": "code",
   "execution_count": 21,
   "id": "5c4e8043",
   "metadata": {},
   "outputs": [
    {
     "data": {
      "text/plain": [
       "<AxesSubplot:xlabel='type', ylabel='count'>"
      ]
     },
     "execution_count": 21,
     "metadata": {},
     "output_type": "execute_result"
    },
    {
     "data": {
      "image/png": "[encoded data removed]",
      "text/plain": [
       "<Figure size 640x480 with 1 Axes>"
      ]
     },
     "metadata": {},
     "output_type": "display_data"
    }
   ],
   "source": [
    "# count plot of the Payment type column\n",
    "\n",
    "sns.countplot(x='type', data=df)"
   ]
  },
  {
   "cell_type": "markdown",
   "id": "7003264b",
   "metadata": {},
   "source": [
    "* **Cash out** is **the most numerous** transaction type, followed by payment, cash in, transfer and debit types."
   ]
  },
  {
   "cell_type": "code",
   "execution_count": 22,
   "id": "7fa84bcf",
   "metadata": {},
   "outputs": [
    {
     "data": {
      "text/plain": [
       "<AxesSubplot:ylabel='Density'>"
      ]
     },
     "execution_count": 22,
     "metadata": {},
     "output_type": "execute_result"
    },
    {
     "data": {
      "image/png": "[encoded data removed]",
      "text/plain": [
       "<Figure size 640x480 with 1 Axes>"
      ]
     },
     "metadata": {},
     "output_type": "display_data"
    }
   ],
   "source": [
    "df['amount'].plot(kind='kde')"
   ]
  },
  {
   "cell_type": "markdown",
   "id": "3ef832d1",
   "metadata": {},
   "source": [
    "* The distribution of transaction amounts is **right skewed**. \n",
    "* This indicates that most values are clustered around the left tail of the distribution, with the longer right tail. \n",
    "* (mode < median < mean)"
   ]
  },
  {
   "cell_type": "code",
   "execution_count": 23,
   "id": "dedeb187",
   "metadata": {},
   "outputs": [
    {
     "data": {
      "text/plain": [
       "30.99394948249038"
      ]
     },
     "execution_count": 23,
     "metadata": {},
     "output_type": "execute_result"
    }
   ],
   "source": [
    "df['amount'].skew()"
   ]
  },
  {
   "cell_type": "code",
   "execution_count": 24,
   "id": "9561e770",
   "metadata": {},
   "outputs": [
    {
     "data": {
      "text/plain": [
       "<AxesSubplot:ylabel='Density'>"
      ]
     },
     "execution_count": 24,
     "metadata": {},
     "output_type": "execute_result"
    },
    {
     "data": {
      "image/png": "[encoded data removed]",
      "text/plain": [
       "<Figure size 640x480 with 1 Axes>"
      ]
     },
     "metadata": {},
     "output_type": "display_data"
    }
   ],
   "source": [
    "df['oldbalanceOrg'].plot(kind='kde')"
   ]
  },
  {
   "cell_type": "markdown",
   "id": "333acb2b",
   "metadata": {},
   "source": [
    "* The distribution of pre-transaction balances of the initial customers is right skewed."
   ]
  },
  {
   "cell_type": "code",
   "execution_count": 25,
   "id": "f6c634d6",
   "metadata": {},
   "outputs": [
    {
     "data": {
      "text/plain": [
       "5.249136420603121"
      ]
     },
     "execution_count": 25,
     "metadata": {},
     "output_type": "execute_result"
    }
   ],
   "source": [
    "df['oldbalanceOrg'].skew()"
   ]
  },
  {
   "cell_type": "code",
   "execution_count": 26,
   "id": "fcbc6200",
   "metadata": {},
   "outputs": [
    {
     "data": {
      "text/plain": [
       "<AxesSubplot:ylabel='Density'>"
      ]
     },
     "execution_count": 26,
     "metadata": {},
     "output_type": "execute_result"
    },
    {
     "data": {
      "image/png": "[encoded data removed]",
      "text/plain": [
       "<Figure size 640x480 with 1 Axes>"
      ]
     },
     "metadata": {},
     "output_type": "display_data"
    }
   ],
   "source": [
    "df['newbalanceOrig'].plot(kind='kde')"
   ]
  },
  {
   "cell_type": "markdown",
   "id": "1c715a2f",
   "metadata": {},
   "source": [
    "* The distribution of post-transaction balances of the initial customers is right skewed."
   ]
  },
  {
   "cell_type": "code",
   "execution_count": 27,
   "id": "df6979f8",
   "metadata": {},
   "outputs": [
    {
     "data": {
      "text/plain": [
       "5.176884001159233"
      ]
     },
     "execution_count": 27,
     "metadata": {},
     "output_type": "execute_result"
    }
   ],
   "source": [
    "df['newbalanceOrig'].skew()"
   ]
  },
  {
   "cell_type": "markdown",
   "id": "47d46c19",
   "metadata": {},
   "source": [
    "## bivariate analysis"
   ]
  },
  {
   "cell_type": "code",
   "execution_count": 28,
   "id": "4df5a65c",
   "metadata": {},
   "outputs": [
    {
     "data": {
      "image/png": "[encoded data removed]",
      "text/plain": [
       "<Figure size 800x500 with 1 Axes>"
      ]
     },
     "metadata": {},
     "output_type": "display_data"
    }
   ],
   "source": [
    "x = pd.crosstab(df['type'], df['isFraud'])\n",
    "x.div(x.sum(1).astype(float), axis=0).plot(kind = 'bar', stacked=False, figsize=(8,5))\n",
    "plt.title('Effect of payment on fraudulent')\n",
    "plt.show()"
   ]
  },
  {
   "cell_type": "markdown",
   "id": "61d1d9eb",
   "metadata": {},
   "source": [
    "* Fraudulent transactions only occur in cash_out and transfer types."
   ]
  },
  {
   "cell_type": "markdown",
   "id": "9c85c10c",
   "metadata": {},
   "source": [
    "## multivariate analysis"
   ]
  },
  {
   "cell_type": "code",
   "execution_count": 29,
   "id": "94daa16e",
   "metadata": {},
   "outputs": [
    {
     "data": {
      "text/html": [
       "<div>\n",
       "<style scoped>\n",
       "    .dataframe tbody tr th:only-of-type {\n",
       "        vertical-align: middle;\n",
       "    }\n",
       "\n",
       "    .dataframe tbody tr th {\n",
       "        vertical-align: top;\n",
       "    }\n",
       "\n",
       "    .dataframe thead th {\n",
       "        text-align: right;\n",
       "    }\n",
       "</style>\n",
       "<table border=\"1\" class=\"dataframe\">\n",
       "  <thead>\n",
       "    <tr style=\"text-align: right;\">\n",
       "      <th></th>\n",
       "      <th>step</th>\n",
       "      <th>amount</th>\n",
       "      <th>oldbalanceOrg</th>\n",
       "      <th>newbalanceOrig</th>\n",
       "      <th>oldbalanceDest</th>\n",
       "      <th>newbalanceDest</th>\n",
       "      <th>isFraud</th>\n",
       "    </tr>\n",
       "  </thead>\n",
       "  <tbody>\n",
       "    <tr>\n",
       "      <th>step</th>\n",
       "      <td>1.000000</td>\n",
       "      <td>0.022373</td>\n",
       "      <td>-0.010058</td>\n",
       "      <td>-0.010299</td>\n",
       "      <td>0.027665</td>\n",
       "      <td>0.025888</td>\n",
       "      <td>0.031578</td>\n",
       "    </tr>\n",
       "    <tr>\n",
       "      <th>amount</th>\n",
       "      <td>0.022373</td>\n",
       "      <td>1.000000</td>\n",
       "      <td>-0.002762</td>\n",
       "      <td>-0.007861</td>\n",
       "      <td>0.294137</td>\n",
       "      <td>0.459304</td>\n",
       "      <td>0.076688</td>\n",
       "    </tr>\n",
       "    <tr>\n",
       "      <th>oldbalanceOrg</th>\n",
       "      <td>-0.010058</td>\n",
       "      <td>-0.002762</td>\n",
       "      <td>1.000000</td>\n",
       "      <td>0.998803</td>\n",
       "      <td>0.066243</td>\n",
       "      <td>0.042029</td>\n",
       "      <td>0.010154</td>\n",
       "    </tr>\n",
       "    <tr>\n",
       "      <th>newbalanceOrig</th>\n",
       "      <td>-0.010299</td>\n",
       "      <td>-0.007861</td>\n",
       "      <td>0.998803</td>\n",
       "      <td>1.000000</td>\n",
       "      <td>0.067812</td>\n",
       "      <td>0.041837</td>\n",
       "      <td>-0.008148</td>\n",
       "    </tr>\n",
       "    <tr>\n",
       "      <th>oldbalanceDest</th>\n",
       "      <td>0.027665</td>\n",
       "      <td>0.294137</td>\n",
       "      <td>0.066243</td>\n",
       "      <td>0.067812</td>\n",
       "      <td>1.000000</td>\n",
       "      <td>0.976569</td>\n",
       "      <td>-0.005885</td>\n",
       "    </tr>\n",
       "    <tr>\n",
       "      <th>newbalanceDest</th>\n",
       "      <td>0.025888</td>\n",
       "      <td>0.459304</td>\n",
       "      <td>0.042029</td>\n",
       "      <td>0.041837</td>\n",
       "      <td>0.976569</td>\n",
       "      <td>1.000000</td>\n",
       "      <td>0.000535</td>\n",
       "    </tr>\n",
       "    <tr>\n",
       "      <th>isFraud</th>\n",
       "      <td>0.031578</td>\n",
       "      <td>0.076688</td>\n",
       "      <td>0.010154</td>\n",
       "      <td>-0.008148</td>\n",
       "      <td>-0.005885</td>\n",
       "      <td>0.000535</td>\n",
       "      <td>1.000000</td>\n",
       "    </tr>\n",
       "  </tbody>\n",
       "</table>\n",
       "</div>"
      ],
      "text/plain": [
       "                    step    amount  oldbalanceOrg  newbalanceOrig  \\\n",
       "step            1.000000  0.022373      -0.010058       -0.010299   \n",
       "amount          0.022373  1.000000      -0.002762       -0.007861   \n",
       "oldbalanceOrg  -0.010058 -0.002762       1.000000        0.998803   \n",
       "newbalanceOrig -0.010299 -0.007861       0.998803        1.000000   \n",
       "oldbalanceDest  0.027665  0.294137       0.066243        0.067812   \n",
       "newbalanceDest  0.025888  0.459304       0.042029        0.041837   \n",
       "isFraud         0.031578  0.076688       0.010154       -0.008148   \n",
       "\n",
       "                oldbalanceDest  newbalanceDest   isFraud  \n",
       "step                  0.027665        0.025888  0.031578  \n",
       "amount                0.294137        0.459304  0.076688  \n",
       "oldbalanceOrg         0.066243        0.042029  0.010154  \n",
       "newbalanceOrig        0.067812        0.041837 -0.008148  \n",
       "oldbalanceDest        1.000000        0.976569 -0.005885  \n",
       "newbalanceDest        0.976569        1.000000  0.000535  \n",
       "isFraud              -0.005885        0.000535  1.000000  "
      ]
     },
     "execution_count": 29,
     "metadata": {},
     "output_type": "execute_result"
    }
   ],
   "source": [
    "df.corr()"
   ]
  },
  {
   "cell_type": "code",
   "execution_count": 30,
   "id": "a51759ea",
   "metadata": {},
   "outputs": [
    {
     "data": {
      "image/png": "[encoded data removed]",
      "text/plain": [
       "<Figure size 1500x500 with 2 Axes>"
      ]
     },
     "metadata": {},
     "output_type": "display_data"
    }
   ],
   "source": [
    "plt.figure(figsize=(15,5))\n",
    "sns.heatmap(df.corr(), annot=True, cmap='Wistia')\n",
    "plt.title('Heatmap')\n",
    "plt.show()"
   ]
  },
  {
   "cell_type": "markdown",
   "id": "74fcd90e",
   "metadata": {},
   "source": [
    "* oldbalanceOrg and newbalanceOrig has **strong positive** relationship. \n",
    "* oldbalanceDest and newbalanceDest has **strong positive** relationship.\n",
    "* oldbalanceOrg and amount has **strong negative** relationship.\n",
    "* newbalanceOrig and amount has **moderate negative** relationship."
   ]
  },
  {
   "cell_type": "markdown",
   "id": "d315b778",
   "metadata": {},
   "source": [
    "## feature engineering"
   ]
  },
  {
   "cell_type": "code",
   "execution_count": 31,
   "id": "099e8a84",
   "metadata": {},
   "outputs": [
    {
     "data": {
      "text/html": [
       "<div>\n",
       "<style scoped>\n",
       "    .dataframe tbody tr th:only-of-type {\n",
       "        vertical-align: middle;\n",
       "    }\n",
       "\n",
       "    .dataframe tbody tr th {\n",
       "        vertical-align: top;\n",
       "    }\n",
       "\n",
       "    .dataframe thead th {\n",
       "        text-align: right;\n",
       "    }\n",
       "</style>\n",
       "<table border=\"1\" class=\"dataframe\">\n",
       "  <thead>\n",
       "    <tr style=\"text-align: right;\">\n",
       "      <th></th>\n",
       "      <th>step</th>\n",
       "      <th>type</th>\n",
       "      <th>amount</th>\n",
       "      <th>nameOrig</th>\n",
       "      <th>oldbalanceOrg</th>\n",
       "      <th>newbalanceOrig</th>\n",
       "      <th>nameDest</th>\n",
       "      <th>oldbalanceDest</th>\n",
       "      <th>newbalanceDest</th>\n",
       "      <th>isFraud</th>\n",
       "      <th>CASH_OUT</th>\n",
       "      <th>DEBIT</th>\n",
       "      <th>PAYMENT</th>\n",
       "      <th>TRANSFER</th>\n",
       "    </tr>\n",
       "  </thead>\n",
       "  <tbody>\n",
       "    <tr>\n",
       "      <th>0</th>\n",
       "      <td>1</td>\n",
       "      <td>PAYMENT</td>\n",
       "      <td>9839.64</td>\n",
       "      <td>C1231006815</td>\n",
       "      <td>170136.0</td>\n",
       "      <td>160296.36</td>\n",
       "      <td>M1979787155</td>\n",
       "      <td>0.0</td>\n",
       "      <td>0.0</td>\n",
       "      <td>0</td>\n",
       "      <td>0</td>\n",
       "      <td>0</td>\n",
       "      <td>1</td>\n",
       "      <td>0</td>\n",
       "    </tr>\n",
       "    <tr>\n",
       "      <th>1</th>\n",
       "      <td>1</td>\n",
       "      <td>PAYMENT</td>\n",
       "      <td>1864.28</td>\n",
       "      <td>C1666544295</td>\n",
       "      <td>21249.0</td>\n",
       "      <td>19384.72</td>\n",
       "      <td>M2044282225</td>\n",
       "      <td>0.0</td>\n",
       "      <td>0.0</td>\n",
       "      <td>0</td>\n",
       "      <td>0</td>\n",
       "      <td>0</td>\n",
       "      <td>1</td>\n",
       "      <td>0</td>\n",
       "    </tr>\n",
       "    <tr>\n",
       "      <th>2</th>\n",
       "      <td>1</td>\n",
       "      <td>TRANSFER</td>\n",
       "      <td>181.00</td>\n",
       "      <td>C1305486145</td>\n",
       "      <td>181.0</td>\n",
       "      <td>0.00</td>\n",
       "      <td>C553264065</td>\n",
       "      <td>0.0</td>\n",
       "      <td>0.0</td>\n",
       "      <td>1</td>\n",
       "      <td>0</td>\n",
       "      <td>0</td>\n",
       "      <td>0</td>\n",
       "      <td>1</td>\n",
       "    </tr>\n",
       "    <tr>\n",
       "      <th>3</th>\n",
       "      <td>1</td>\n",
       "      <td>CASH_OUT</td>\n",
       "      <td>181.00</td>\n",
       "      <td>C840083671</td>\n",
       "      <td>181.0</td>\n",
       "      <td>0.00</td>\n",
       "      <td>C38997010</td>\n",
       "      <td>21182.0</td>\n",
       "      <td>0.0</td>\n",
       "      <td>1</td>\n",
       "      <td>1</td>\n",
       "      <td>0</td>\n",
       "      <td>0</td>\n",
       "      <td>0</td>\n",
       "    </tr>\n",
       "    <tr>\n",
       "      <th>4</th>\n",
       "      <td>1</td>\n",
       "      <td>PAYMENT</td>\n",
       "      <td>11668.14</td>\n",
       "      <td>C2048537720</td>\n",
       "      <td>41554.0</td>\n",
       "      <td>29885.86</td>\n",
       "      <td>M1230701703</td>\n",
       "      <td>0.0</td>\n",
       "      <td>0.0</td>\n",
       "      <td>0</td>\n",
       "      <td>0</td>\n",
       "      <td>0</td>\n",
       "      <td>1</td>\n",
       "      <td>0</td>\n",
       "    </tr>\n",
       "  </tbody>\n",
       "</table>\n",
       "</div>"
      ],
      "text/plain": [
       "   step      type    amount     nameOrig  oldbalanceOrg  newbalanceOrig  \\\n",
       "0     1   PAYMENT   9839.64  C1231006815       170136.0       160296.36   \n",
       "1     1   PAYMENT   1864.28  C1666544295        21249.0        19384.72   \n",
       "2     1  TRANSFER    181.00  C1305486145          181.0            0.00   \n",
       "3     1  CASH_OUT    181.00   C840083671          181.0            0.00   \n",
       "4     1   PAYMENT  11668.14  C2048537720        41554.0        29885.86   \n",
       "\n",
       "      nameDest  oldbalanceDest  newbalanceDest  isFraud  CASH_OUT  DEBIT  \\\n",
       "0  M1979787155             0.0             0.0        0         0      0   \n",
       "1  M2044282225             0.0             0.0        0         0      0   \n",
       "2   C553264065             0.0             0.0        1         0      0   \n",
       "3    C38997010         21182.0             0.0        1         1      0   \n",
       "4  M1230701703             0.0             0.0        0         0      0   \n",
       "\n",
       "   PAYMENT  TRANSFER  \n",
       "0        1         0  \n",
       "1        1         0  \n",
       "2        0         1  \n",
       "3        0         0  \n",
       "4        1         0  "
      ]
     },
     "execution_count": 31,
     "metadata": {},
     "output_type": "execute_result"
    }
   ],
   "source": [
    "type_new = pd.get_dummies(df['type'], drop_first=True)\n",
    "df_new = pd.concat([df, type_new], axis=1)\n",
    "df_new.head()"
   ]
  },
  {
   "cell_type": "code",
   "execution_count": 32,
   "id": "3ac1579d",
   "metadata": {},
   "outputs": [
    {
     "data": {
      "text/plain": [
       "(6362620, 14)"
      ]
     },
     "execution_count": 32,
     "metadata": {},
     "output_type": "execute_result"
    }
   ],
   "source": [
    "df_new.shape"
   ]
  },
  {
   "cell_type": "code",
   "execution_count": 33,
   "id": "36f32248",
   "metadata": {},
   "outputs": [
    {
     "name": "stdout",
     "output_type": "stream",
     "text": [
      "{'newbalanceDest', 'newbalanceOrig'}\n"
     ]
    }
   ],
   "source": [
    "## features to get remove\n",
    "\n",
    "corr_matrix = df.corr()\n",
    "\n",
    "threshold = 0.95               ## set the correlation threshold\n",
    "\n",
    "features_to_remove = set()      ## set to hold features to remove\n",
    "for i in range(len(corr_matrix.columns)):\n",
    "    for j in range(i):\n",
    "        if abs(corr_matrix.iloc[i, j]) > threshold:\n",
    "            col_name = corr_matrix.columns[i]\n",
    "            features_to_remove.add(col_name)\n",
    "            \n",
    "print(features_to_remove)"
   ]
  },
  {
   "cell_type": "code",
   "execution_count": 34,
   "id": "c6965164",
   "metadata": {},
   "outputs": [],
   "source": [
    "## droping columns\n",
    "\n",
    "df_new.drop(columns=['nameOrig','newbalanceOrig','nameDest','type','newbalanceDest'], axis=1,inplace=True)"
   ]
  },
  {
   "cell_type": "code",
   "execution_count": 35,
   "id": "6108d725",
   "metadata": {},
   "outputs": [
    {
     "data": {
      "text/plain": [
       "(6362620, 9)"
      ]
     },
     "execution_count": 35,
     "metadata": {},
     "output_type": "execute_result"
    }
   ],
   "source": [
    "df_new.shape"
   ]
  },
  {
   "cell_type": "code",
   "execution_count": 36,
   "id": "febdeffb",
   "metadata": {},
   "outputs": [
    {
     "data": {
      "text/plain": [
       "878"
      ]
     },
     "execution_count": 36,
     "metadata": {},
     "output_type": "execute_result"
    }
   ],
   "source": [
    "df_new.duplicated().sum()"
   ]
  },
  {
   "cell_type": "code",
   "execution_count": 37,
   "id": "a1bee762",
   "metadata": {},
   "outputs": [],
   "source": [
    "df_new.drop_duplicates(inplace = True)"
   ]
  },
  {
   "cell_type": "code",
   "execution_count": 38,
   "id": "739b4cec",
   "metadata": {},
   "outputs": [
    {
     "data": {
      "text/plain": [
       "(6361742, 9)"
      ]
     },
     "execution_count": 38,
     "metadata": {},
     "output_type": "execute_result"
    }
   ],
   "source": [
    "df_new.shape"
   ]
  },
  {
   "cell_type": "code",
   "execution_count": 39,
   "id": "4eb27a55",
   "metadata": {},
   "outputs": [
    {
     "data": {
      "text/plain": [
       "step              0\n",
       "amount            0\n",
       "oldbalanceOrg     0\n",
       "oldbalanceDest    0\n",
       "isFraud           0\n",
       "CASH_OUT          0\n",
       "DEBIT             0\n",
       "PAYMENT           0\n",
       "TRANSFER          0\n",
       "dtype: int64"
      ]
     },
     "execution_count": 39,
     "metadata": {},
     "output_type": "execute_result"
    }
   ],
   "source": [
    "df_new.isnull().sum()"
   ]
  },
  {
   "cell_type": "code",
   "execution_count": 40,
   "id": "566dde42",
   "metadata": {},
   "outputs": [
    {
     "data": {
      "text/plain": [
       "0    6353545\n",
       "1       8197\n",
       "Name: isFraud, dtype: int64"
      ]
     },
     "execution_count": 40,
     "metadata": {},
     "output_type": "execute_result"
    }
   ],
   "source": [
    "df_new['isFraud'].value_counts()"
   ]
  },
  {
   "cell_type": "code",
   "execution_count": 41,
   "id": "6557af47",
   "metadata": {},
   "outputs": [],
   "source": [
    "X = df_new.drop(columns=['isFraud'], axis=1)\n",
    "Y = df_new['isFraud']"
   ]
  },
  {
   "cell_type": "code",
   "execution_count": 42,
   "id": "bd4f9e5e",
   "metadata": {},
   "outputs": [],
   "source": [
    "from sklearn.model_selection import train_test_split\n",
    "\n",
    "X_train, X_test, Y_train, Y_test = train_test_split(X, Y, test_size=0.3, stratify=Y, random_state=42)"
   ]
  },
  {
   "cell_type": "code",
   "execution_count": 43,
   "id": "0d2dfbd6",
   "metadata": {},
   "outputs": [
    {
     "data": {
      "text/plain": [
       "((4453219, 8), (1908523, 8))"
      ]
     },
     "execution_count": 43,
     "metadata": {},
     "output_type": "execute_result"
    }
   ],
   "source": [
    "X_train.shape, X_test.shape"
   ]
  },
  {
   "cell_type": "code",
   "execution_count": 44,
   "id": "68305965",
   "metadata": {},
   "outputs": [
    {
     "data": {
      "text/plain": [
       "((4453219,), (1908523,))"
      ]
     },
     "execution_count": 44,
     "metadata": {},
     "output_type": "execute_result"
    }
   ],
   "source": [
    "Y_train.shape, Y_test.shape"
   ]
  },
  {
   "cell_type": "code",
   "execution_count": 45,
   "id": "b82d8f32",
   "metadata": {},
   "outputs": [
    {
     "data": {
      "text/plain": [
       "0    4447481\n",
       "1       5738\n",
       "Name: isFraud, dtype: int64"
      ]
     },
     "execution_count": 45,
     "metadata": {},
     "output_type": "execute_result"
    }
   ],
   "source": [
    "Y_train.value_counts()"
   ]
  },
  {
   "cell_type": "code",
   "execution_count": 46,
   "id": "9078a873",
   "metadata": {},
   "outputs": [
    {
     "data": {
      "text/plain": [
       "0    1906064\n",
       "1       2459\n",
       "Name: isFraud, dtype: int64"
      ]
     },
     "execution_count": 46,
     "metadata": {},
     "output_type": "execute_result"
    }
   ],
   "source": [
    "Y_test.value_counts()"
   ]
  },
  {
   "cell_type": "code",
   "execution_count": 47,
   "id": "0261367e",
   "metadata": {},
   "outputs": [
    {
     "name": "stdout",
     "output_type": "stream",
     "text": [
      "Class distribution in the training set:\n",
      "0    0.998711\n",
      "1    0.001289\n",
      "Name: isFraud, dtype: float64\n",
      "Class distribution in the test set:\n",
      "0    0.998712\n",
      "1    0.001288\n",
      "Name: isFraud, dtype: float64\n"
     ]
    }
   ],
   "source": [
    "# If Y_train or Y_test is a pandas Series or DataFrame\n",
    "class_distribution_train = pd.Series(Y_train).value_counts(normalize=True)\n",
    "class_distribution_test = pd.Series(Y_test).value_counts(normalize=True)\n",
    "\n",
    "print(f\"Class distribution in the training set:\\n{class_distribution_train}\")\n",
    "print(f\"Class distribution in the test set:\\n{class_distribution_test}\")"
   ]
  },
  {
   "cell_type": "markdown",
   "id": "968b07b8",
   "metadata": {},
   "source": [
    "## Model Implementation"
   ]
  },
  {
   "cell_type": "markdown",
   "id": "08f97bee",
   "metadata": {},
   "source": [
    "### Logistic Regression"
   ]
  },
  {
   "cell_type": "code",
   "execution_count": 48,
   "id": "06ae0b1a",
   "metadata": {},
   "outputs": [],
   "source": [
    "from sklearn.linear_model import LogisticRegression"
   ]
  },
  {
   "cell_type": "code",
   "execution_count": 49,
   "id": "b82857f5",
   "metadata": {},
   "outputs": [],
   "source": [
    "lor = LogisticRegression(class_weight='balanced')\n",
    "lor.fit(X_train, Y_train)\n",
    "y_pred = lor.predict(X_test)"
   ]
  },
  {
   "cell_type": "code",
   "execution_count": 50,
   "id": "aa5c0997",
   "metadata": {},
   "outputs": [],
   "source": [
    "from sklearn.metrics import accuracy_score, precision_score, recall_score, f1_score, confusion_matrix, classification_report"
   ]
  },
  {
   "cell_type": "code",
   "execution_count": 51,
   "id": "8d18b616",
   "metadata": {},
   "outputs": [
    {
     "name": "stdout",
     "output_type": "stream",
     "text": [
      "Logistic Regression: \n",
      "\n",
      "Accuracy:  0.40379497653421\n",
      "Precision:  0.001965972274615008\n",
      "Recall:  0.9113460756405043\n",
      "F1_score:  0.003923480745443833\n"
     ]
    }
   ],
   "source": [
    "accuracy = accuracy_score(Y_test, y_pred)\n",
    "precision = precision_score(Y_test, y_pred)\n",
    "recall = recall_score(Y_test, y_pred)\n",
    "f1 = f1_score(Y_test, y_pred)\n",
    "\n",
    "print(\"Logistic Regression: \\n\")\n",
    "print(\"Accuracy: \", accuracy)\n",
    "print(\"Precision: \", precision)\n",
    "print(\"Recall: \", recall)\n",
    "print(\"F1_score: \", f1)"
   ]
  },
  {
   "cell_type": "code",
   "execution_count": 52,
   "id": "6134a420",
   "metadata": {},
   "outputs": [
    {
     "name": "stdout",
     "output_type": "stream",
     "text": [
      "[[ 768411 1137653]\n",
      " [    218    2241]]\n"
     ]
    }
   ],
   "source": [
    "print(confusion_matrix(Y_test, y_pred))"
   ]
  },
  {
   "cell_type": "code",
   "execution_count": 53,
   "id": "9fc9e7d3",
   "metadata": {},
   "outputs": [
    {
     "data": {
      "image/png": "[encoded data removed]",
      "text/plain": [
       "<Figure size 600x400 with 2 Axes>"
      ]
     },
     "metadata": {},
     "output_type": "display_data"
    }
   ],
   "source": [
    "cm = confusion_matrix(Y_test, y_pred)\n",
    "\n",
    "plt.figure(figsize=(6, 4))\n",
    "sns.heatmap(cm, annot=True, fmt=\"d\", cmap=\"Blues\")\n",
    "plt.xlabel(\"Predicted Labels\")\n",
    "plt.ylabel(\"Actual Labels\")\n",
    "plt.title(\"Confusion Matrix for Logistic Reg\")\n",
    "plt.show()"
   ]
  },
  {
   "cell_type": "code",
   "execution_count": 54,
   "id": "c31c56a8",
   "metadata": {},
   "outputs": [
    {
     "data": {
      "image/png": "[encoded data removed]",
      "text/plain": [
       "<Figure size 700x400 with 1 Axes>"
      ]
     },
     "metadata": {},
     "output_type": "display_data"
    }
   ],
   "source": [
    "# Store metrics in a dictionary\n",
    "metrics = {\n",
    "    'Accuracy': accuracy,\n",
    "    'Precision': precision,\n",
    "    'Recall': recall,\n",
    "    'F1 Score': f1\n",
    "}\n",
    "\n",
    "# Plotting\n",
    "plt.figure(figsize=(7,4))\n",
    "plt.bar(metrics.keys(), metrics.values(), color=['skyblue', 'salmon', 'limegreen', 'orange'])\n",
    "plt.ylim(0, 1)\n",
    "plt.ylabel('Score')\n",
    "plt.title('Performance Metrics for Logistic Reg')\n",
    "plt.show()"
   ]
  },
  {
   "cell_type": "markdown",
   "id": "9fc7b91a",
   "metadata": {},
   "source": [
    "### Decision Tree"
   ]
  },
  {
   "cell_type": "code",
   "execution_count": 55,
   "id": "d19f3da0",
   "metadata": {},
   "outputs": [],
   "source": [
    "from sklearn.tree import DecisionTreeClassifier"
   ]
  },
  {
   "cell_type": "code",
   "execution_count": 56,
   "id": "32959db0",
   "metadata": {},
   "outputs": [],
   "source": [
    "dt = DecisionTreeClassifier(class_weight='balanced')\n",
    "dt.fit(X_train, Y_train)\n",
    "y_p = dt.predict(X_test)"
   ]
  },
  {
   "cell_type": "code",
   "execution_count": 57,
   "id": "80bd676b",
   "metadata": {},
   "outputs": [
    {
     "name": "stdout",
     "output_type": "stream",
     "text": [
      "Decision Tree: \n",
      "\n",
      "Accuracy:  0.9993749092884917\n",
      "Precision:  0.7740259740259741\n",
      "Recall:  0.7271248474989833\n",
      "F1_score:  0.7498427343258545\n"
     ]
    }
   ],
   "source": [
    "accuracy = accuracy_score(Y_test, y_p)\n",
    "precision = precision_score(Y_test, y_p)\n",
    "recall = recall_score(Y_test, y_p)\n",
    "f1 = f1_score(Y_test, y_p)\n",
    "\n",
    "print(\"Decision Tree: \\n\")\n",
    "print(\"Accuracy: \", accuracy)\n",
    "print(\"Precision: \", precision)\n",
    "print(\"Recall: \", recall)\n",
    "print(\"F1_score: \", f1)"
   ]
  },
  {
   "cell_type": "code",
   "execution_count": 58,
   "id": "43ebf7bd",
   "metadata": {},
   "outputs": [
    {
     "name": "stdout",
     "output_type": "stream",
     "text": [
      "[[1905542     522]\n",
      " [    671    1788]]\n"
     ]
    }
   ],
   "source": [
    "print(confusion_matrix(Y_test, y_p))"
   ]
  },
  {
   "cell_type": "code",
   "execution_count": 59,
   "id": "882fef6c",
   "metadata": {},
   "outputs": [
    {
     "data": {
      "image/png": "[encoded data removed]",
      "text/plain": [
       "<Figure size 600x400 with 2 Axes>"
      ]
     },
     "metadata": {},
     "output_type": "display_data"
    }
   ],
   "source": [
    "cm = confusion_matrix(Y_test, y_p)\n",
    "\n",
    "plt.figure(figsize=(6, 4))\n",
    "sns.heatmap(cm, annot=True, fmt=\"d\", cmap=\"Blues\")\n",
    "plt.xlabel(\"Predicted Labels\")\n",
    "plt.ylabel(\"Actual Labels\")\n",
    "plt.title(\"Confusion Matrix for Decision Tree\")\n",
    "plt.show()"
   ]
  },
  {
   "cell_type": "code",
   "execution_count": 60,
   "id": "7dd80870",
   "metadata": {},
   "outputs": [
    {
     "name": "stdout",
     "output_type": "stream",
     "text": [
      "              precision    recall  f1-score   support\n",
      "\n",
      "           0       1.00      1.00      1.00   1906064\n",
      "           1       0.77      0.73      0.75      2459\n",
      "\n",
      "    accuracy                           1.00   1908523\n",
      "   macro avg       0.89      0.86      0.87   1908523\n",
      "weighted avg       1.00      1.00      1.00   1908523\n",
      "\n"
     ]
    }
   ],
   "source": [
    "print(classification_report(Y_test, y_p))"
   ]
  },
  {
   "cell_type": "code",
   "execution_count": 61,
   "id": "14be6079",
   "metadata": {},
   "outputs": [
    {
     "data": {
      "image/png": "[encoded data removed]",
      "text/plain": [
       "<Figure size 700x400 with 1 Axes>"
      ]
     },
     "metadata": {},
     "output_type": "display_data"
    }
   ],
   "source": [
    "# Store metrics in a dictionary\n",
    "metrics = {\n",
    "    'Accuracy': accuracy,\n",
    "    'Precision': precision,\n",
    "    'Recall': recall,\n",
    "    'F1 Score': f1\n",
    "}\n",
    "\n",
    "# Plotting\n",
    "plt.figure(figsize=(7,4))\n",
    "plt.bar(metrics.keys(), metrics.values(), color=['skyblue', 'salmon', 'limegreen', 'orange'])\n",
    "plt.ylim(0, 1)\n",
    "plt.ylabel('Score')\n",
    "plt.title('Performance Metrics for Decision Tree')\n",
    "plt.show()"
   ]
  },
  {
   "cell_type": "markdown",
   "id": "f3edfd2a",
   "metadata": {},
   "source": [
    "### Random Forest"
   ]
  },
  {
   "cell_type": "code",
   "execution_count": 62,
   "id": "619d9eb1",
   "metadata": {},
   "outputs": [],
   "source": [
    "from sklearn.ensemble import RandomForestClassifier"
   ]
  },
  {
   "cell_type": "code",
   "execution_count": 63,
   "id": "d8db2530",
   "metadata": {},
   "outputs": [],
   "source": [
    "rfc = RandomForestClassifier(class_weight='balanced')\n",
    "rfc.fit(X_train, Y_train)\n",
    "y_pr = rfc.predict(X_test)"
   ]
  },
  {
   "cell_type": "code",
   "execution_count": 64,
   "id": "1ce0bb23",
   "metadata": {},
   "outputs": [
    {
     "name": "stdout",
     "output_type": "stream",
     "text": [
      "Random Forest: \n",
      "\n",
      "Accuracy:  0.9995520095906625\n",
      "Precision:  0.9426048565121413\n",
      "Recall:  0.6945912972753152\n",
      "F1_score:  0.7998126902364786\n"
     ]
    }
   ],
   "source": [
    "accuracy = accuracy_score(Y_test, y_pr)\n",
    "precision = precision_score(Y_test, y_pr)\n",
    "recall = recall_score(Y_test, y_pr)\n",
    "f1 = f1_score(Y_test, y_pr)\n",
    "\n",
    "print(\"Random Forest: \\n\")\n",
    "print(\"Accuracy: \", accuracy)\n",
    "print(\"Precision: \", precision)\n",
    "print(\"Recall: \", recall)\n",
    "print(\"F1_score: \", f1)"
   ]
  },
  {
   "cell_type": "code",
   "execution_count": 65,
   "id": "db27fc1a",
   "metadata": {},
   "outputs": [
    {
     "name": "stdout",
     "output_type": "stream",
     "text": [
      "[[1905960     104]\n",
      " [    751    1708]]\n"
     ]
    }
   ],
   "source": [
    "print(confusion_matrix(Y_test, y_pr))"
   ]
  },
  {
   "cell_type": "code",
   "execution_count": 66,
   "id": "fbc990d8",
   "metadata": {},
   "outputs": [
    {
     "data": {
      "image/png": "[encoded data removed]",
      "text/plain": [
       "<Figure size 600x400 with 2 Axes>"
      ]
     },
     "metadata": {},
     "output_type": "display_data"
    }
   ],
   "source": [
    "cm = confusion_matrix(Y_test, y_pr)\n",
    "\n",
    "plt.figure(figsize=(6, 4))\n",
    "sns.heatmap(cm, annot=True, fmt=\"d\", cmap=\"Blues\")\n",
    "plt.xlabel(\"Predicted Labels\")\n",
    "plt.ylabel(\"Actual Labels\")\n",
    "plt.title(\"Confusion Matrix for Random Forest\")\n",
    "plt.show()"
   ]
  },
  {
   "cell_type": "code",
   "execution_count": 67,
   "id": "5e9eb600",
   "metadata": {},
   "outputs": [
    {
     "data": {
      "image/png": "[encoded data removed]",
      "text/plain": [
       "<Figure size 700x400 with 1 Axes>"
      ]
     },
     "metadata": {},
     "output_type": "display_data"
    }
   ],
   "source": [
    "# Store metrics in a dictionary\n",
    "metrics = {\n",
    "    'Accuracy': accuracy,\n",
    "    'Precision': precision,\n",
    "    'Recall': recall,\n",
    "    'F1 Score': f1\n",
    "}\n",
    "\n",
    "# Plotting\n",
    "plt.figure(figsize=(7,4))\n",
    "plt.bar(metrics.keys(), metrics.values(), color=['skyblue', 'salmon', 'limegreen', 'orange'])\n",
    "plt.ylim(0, 1)\n",
    "plt.ylabel('Score')\n",
    "plt.title('Performance Metrics for Random Forest')\n",
    "plt.show()"
   ]
  },
  {
   "cell_type": "markdown",
   "id": "343e09ca",
   "metadata": {},
   "source": [
    "### KNN"
   ]
  },
  {
   "cell_type": "code",
   "execution_count": 68,
   "id": "ff1fb3c5",
   "metadata": {},
   "outputs": [],
   "source": [
    "from sklearn.neighbors import KNeighborsClassifier"
   ]
  },
  {
   "cell_type": "code",
   "execution_count": 69,
   "id": "ca7e133c",
   "metadata": {},
   "outputs": [
    {
     "name": "stderr",
     "output_type": "stream",
     "text": [
      "C:\\Users\\Rishika\\anaconda3\\lib\\site-packages\\sklearn\\neighbors\\_classification.py:228: FutureWarning: Unlike other reduction functions (e.g. `skew`, `kurtosis`), the default behavior of `mode` typically preserves the axis it acts along. In SciPy 1.11.0, this behavior will change: the default value of `keepdims` will become False, the `axis` over which the statistic is taken will be eliminated, and the value None will no longer be accepted. Set `keepdims` to True or False to avoid this warning.\n",
      "  mode, _ = stats.mode(_y[neigh_ind, k], axis=1)\n"
     ]
    }
   ],
   "source": [
    "knn = KNeighborsClassifier()\n",
    "knn.fit(X_train, Y_train)\n",
    "y_pre = knn.predict(X_test)"
   ]
  },
  {
   "cell_type": "code",
   "execution_count": 70,
   "id": "ca52b74a",
   "metadata": {},
   "outputs": [
    {
     "name": "stdout",
     "output_type": "stream",
     "text": [
      "KNN: \n",
      "\n",
      "Accuracy:  0.9994267818622045\n",
      "Precision:  0.8353808353808354\n",
      "Recall:  0.6913379422529483\n",
      "F1_score:  0.756564307966177\n"
     ]
    }
   ],
   "source": [
    "accuracy = accuracy_score(Y_test, y_pre)\n",
    "precision = precision_score(Y_test, y_pre)\n",
    "recall = recall_score(Y_test, y_pre)\n",
    "f1 = f1_score(Y_test, y_pre)\n",
    "\n",
    "print(\"KNN: \\n\")\n",
    "print(\"Accuracy: \", accuracy)\n",
    "print(\"Precision: \", precision)\n",
    "print(\"Recall: \", recall)\n",
    "print(\"F1_score: \", f1)"
   ]
  },
  {
   "cell_type": "code",
   "execution_count": 71,
   "id": "7eed78df",
   "metadata": {},
   "outputs": [
    {
     "name": "stdout",
     "output_type": "stream",
     "text": [
      "[[1905729     335]\n",
      " [    759    1700]]\n"
     ]
    }
   ],
   "source": [
    "print(confusion_matrix(Y_test, y_pre))"
   ]
  },
  {
   "cell_type": "code",
   "execution_count": 72,
   "id": "704f1f1b",
   "metadata": {},
   "outputs": [
    {
     "data": {
      "image/png": "[encoded data removed]",
      "text/plain": [
       "<Figure size 600x400 with 2 Axes>"
      ]
     },
     "metadata": {},
     "output_type": "display_data"
    }
   ],
   "source": [
    "cm = confusion_matrix(Y_test, y_pre)\n",
    "\n",
    "plt.figure(figsize=(6, 4))\n",
    "sns.heatmap(cm, annot=True, fmt=\"d\", cmap=\"Blues\")\n",
    "plt.xlabel(\"Predicted Labels\")\n",
    "plt.ylabel(\"Actual Labels\")\n",
    "plt.title(\"Confusion Matrix for KNN\")\n",
    "plt.show()"
   ]
  },
  {
   "cell_type": "code",
   "execution_count": 73,
   "id": "f24b9ad4",
   "metadata": {},
   "outputs": [
    {
     "data": {
      "image/png": "[encoded data removed]",
      "text/plain": [
       "<Figure size 700x400 with 1 Axes>"
      ]
     },
     "metadata": {},
     "output_type": "display_data"
    }
   ],
   "source": [
    "# Store metrics in a dictionary\n",
    "metrics = {\n",
    "    'Accuracy': accuracy,\n",
    "    'Precision': precision,\n",
    "    'Recall': recall,\n",
    "    'F1 Score': f1\n",
    "}\n",
    "\n",
    "# Plotting\n",
    "plt.figure(figsize=(7,4))\n",
    "plt.bar(metrics.keys(), metrics.values(), color=['skyblue', 'salmon', 'limegreen', 'orange'])\n",
    "plt.ylim(0, 1)\n",
    "plt.ylabel('Score')\n",
    "plt.title('Performance Metrics for KNN')\n",
    "plt.show()"
   ]
  },
  {
   "cell_type": "markdown",
   "id": "73023d7a",
   "metadata": {},
   "source": [
    "## Handling imbalance data using under sampling"
   ]
  },
  {
   "cell_type": "code",
   "execution_count": 74,
   "id": "a05cd976",
   "metadata": {},
   "outputs": [],
   "source": [
    "## using under sampling\n",
    "\n",
    "from imblearn.under_sampling import RandomUnderSampler"
   ]
  },
  {
   "cell_type": "code",
   "execution_count": 75,
   "id": "2dde5e06",
   "metadata": {},
   "outputs": [],
   "source": [
    "rus = RandomUnderSampler()\n",
    "X_train_re, Y_train_re = rus.fit_resample(X_train, Y_train)     #under sampling"
   ]
  },
  {
   "cell_type": "code",
   "execution_count": 76,
   "id": "a4c60a71",
   "metadata": {},
   "outputs": [
    {
     "name": "stdout",
     "output_type": "stream",
     "text": [
      "(11476, 8)\n",
      "(11476,)\n"
     ]
    }
   ],
   "source": [
    "#under sampling\n",
    "print(X_train_re.shape)\n",
    "print(Y_train_re.shape)"
   ]
  },
  {
   "cell_type": "code",
   "execution_count": 77,
   "id": "95b7a369",
   "metadata": {},
   "outputs": [
    {
     "data": {
      "text/plain": [
       "0    5738\n",
       "1    5738\n",
       "Name: isFraud, dtype: int64"
      ]
     },
     "execution_count": 77,
     "metadata": {},
     "output_type": "execute_result"
    }
   ],
   "source": [
    "Y_train_re.value_counts()           #under sampling"
   ]
  },
  {
   "cell_type": "markdown",
   "id": "4023b7dc",
   "metadata": {},
   "source": [
    "## Scaling using Log transformation as the features are skewed"
   ]
  },
  {
   "cell_type": "code",
   "execution_count": 78,
   "id": "cac2f269",
   "metadata": {},
   "outputs": [],
   "source": [
    "#scaling\n",
    "\n",
    "X_train_scau = X_train_re.apply(np.log1p)  \n",
    "X_test_scau = X_test.apply(np.log1p)       "
   ]
  },
  {
   "cell_type": "markdown",
   "id": "68729a35",
   "metadata": {},
   "source": [
    "## Model Building"
   ]
  },
  {
   "cell_type": "markdown",
   "id": "b4652ec0",
   "metadata": {},
   "source": [
    "### Logistic Regression"
   ]
  },
  {
   "cell_type": "code",
   "execution_count": 79,
   "id": "7eccd57b",
   "metadata": {},
   "outputs": [
    {
     "data": {
      "text/plain": [
       "LogisticRegression(class_weight='balanced')"
      ]
     },
     "execution_count": 79,
     "metadata": {},
     "output_type": "execute_result"
    }
   ],
   "source": [
    "lorg = LogisticRegression(class_weight='balanced')\n",
    "lorg.fit(X_train_scau, Y_train_re)"
   ]
  },
  {
   "cell_type": "code",
   "execution_count": 80,
   "id": "4fec3fb0",
   "metadata": {},
   "outputs": [],
   "source": [
    "y_Predu = lorg.predict(X_test_scau)"
   ]
  },
  {
   "cell_type": "code",
   "execution_count": 124,
   "id": "3c60ee82",
   "metadata": {},
   "outputs": [
    {
     "name": "stdout",
     "output_type": "stream",
     "text": [
      "Logistic Regression:\n",
      "\n",
      "Accuracy:  0.887487339686239\n",
      "Precision:  0.01109217375282141\n",
      "Recall:  0.9792598617324115\n",
      "F1_score:  0.021935877640071235\n"
     ]
    }
   ],
   "source": [
    "#under sampling\n",
    "\n",
    "accuracy = accuracy_score(Y_test, y_Predu)\n",
    "precision = precision_score(Y_test, y_Predu)\n",
    "recall = recall_score(Y_test, y_Predu)\n",
    "f1 = f1_score(Y_test, y_Predu)\n",
    "\n",
    "print(\"Logistic Regression:\\n\")\n",
    "print(\"Accuracy: \", accuracy)\n",
    "print(\"Precision: \", precision)\n",
    "print(\"Recall: \", recall)\n",
    "print(\"F1_score: \", f1)"
   ]
  },
  {
   "cell_type": "code",
   "execution_count": 82,
   "id": "989448ca",
   "metadata": {},
   "outputs": [
    {
     "name": "stdout",
     "output_type": "stream",
     "text": [
      "[[1691382  214682]\n",
      " [     51    2408]]\n"
     ]
    }
   ],
   "source": [
    "print(confusion_matrix(Y_test, y_Predu))         #under sampling"
   ]
  },
  {
   "cell_type": "code",
   "execution_count": 83,
   "id": "711e532f",
   "metadata": {},
   "outputs": [
    {
     "data": {
      "image/png": "[encoded data removed]",
      "text/plain": [
       "<Figure size 600x400 with 2 Axes>"
      ]
     },
     "metadata": {},
     "output_type": "display_data"
    }
   ],
   "source": [
    "cm = confusion_matrix(Y_test, y_Predu)\n",
    "\n",
    "plt.figure(figsize=(6, 4))\n",
    "sns.heatmap(cm, annot=True, fmt=\"d\", cmap=\"Blues\")\n",
    "plt.xlabel(\"Predicted Labels\")\n",
    "plt.ylabel(\"Actual Labels\")\n",
    "plt.title(\"Confusion Matrix for Logistic Reg\")\n",
    "plt.show()"
   ]
  },
  {
   "cell_type": "code",
   "execution_count": 84,
   "id": "0cda3155",
   "metadata": {},
   "outputs": [
    {
     "name": "stdout",
     "output_type": "stream",
     "text": [
      "              precision    recall  f1-score   support\n",
      "\n",
      "           0       1.00      0.89      0.94   1906064\n",
      "           1       0.01      0.98      0.02      2459\n",
      "\n",
      "    accuracy                           0.89   1908523\n",
      "   macro avg       0.51      0.93      0.48   1908523\n",
      "weighted avg       1.00      0.89      0.94   1908523\n",
      "\n"
     ]
    }
   ],
   "source": [
    "print(classification_report(Y_test, y_Predu))"
   ]
  },
  {
   "cell_type": "code",
   "execution_count": 121,
   "id": "33053279",
   "metadata": {},
   "outputs": [
    {
     "name": "stdout",
     "output_type": "stream",
     "text": [
      "Logistic Regression ROC AUC:  0.9778773223101306\n"
     ]
    }
   ],
   "source": [
    "from sklearn.metrics import roc_auc_score\n",
    "y_Predu_prob = lorg.predict_proba(X_test_scau)[:,1]\n",
    "\n",
    "roc_auc_lr = roc_auc_score(Y_test, y_Predu_prob)\n",
    "print(\"Logistic Regression ROC AUC: \", roc_auc_lr)"
   ]
  },
  {
   "cell_type": "markdown",
   "id": "b2325197",
   "metadata": {},
   "source": [
    "### Decision Tree"
   ]
  },
  {
   "cell_type": "code",
   "execution_count": 86,
   "id": "62e73b22",
   "metadata": {},
   "outputs": [
    {
     "data": {
      "text/plain": [
       "DecisionTreeClassifier(class_weight='balanced')"
      ]
     },
     "execution_count": 86,
     "metadata": {},
     "output_type": "execute_result"
    }
   ],
   "source": [
    "dtc = DecisionTreeClassifier(class_weight='balanced')\n",
    "dtc.fit(X_train_scau, Y_train_re)"
   ]
  },
  {
   "cell_type": "code",
   "execution_count": 87,
   "id": "95411e38",
   "metadata": {},
   "outputs": [],
   "source": [
    "y_PRd = dtc.predict(X_test_scau)"
   ]
  },
  {
   "cell_type": "code",
   "execution_count": 126,
   "id": "33eab0d7",
   "metadata": {},
   "outputs": [
    {
     "name": "stdout",
     "output_type": "stream",
     "text": [
      "Decision Tree:\n",
      "\n",
      "Accuracy:  0.9735554667143126\n",
      "Precision:  0.045445077730018366\n",
      "Recall:  0.9760065067100447\n",
      "F1_score:  0.08684639044689706\n"
     ]
    }
   ],
   "source": [
    "# under sampling\n",
    "\n",
    "accuracy = accuracy_score(Y_test, y_PRd)\n",
    "precision = precision_score(Y_test, y_PRd)\n",
    "recall = recall_score(Y_test, y_PRd)\n",
    "f1 = f1_score(Y_test, y_PRd)\n",
    "\n",
    "print(\"Decision Tree:\\n\")\n",
    "print(\"Accuracy: \", accuracy)\n",
    "print(\"Precision: \", precision)\n",
    "print(\"Recall: \", recall)\n",
    "print(\"F1_score: \", f1)"
   ]
  },
  {
   "cell_type": "code",
   "execution_count": 125,
   "id": "39f7fa75",
   "metadata": {},
   "outputs": [
    {
     "name": "stdout",
     "output_type": "stream",
     "text": [
      "Decision Tree ROC AUC:  0.9747794056772949\n"
     ]
    }
   ],
   "source": [
    "y_PRd_prob = dtc.predict_proba(X_test_scau)[:,1]\n",
    "roc_auc_dt = roc_auc_score(Y_test, y_PRd_prob)\n",
    "print(\"Decision Tree ROC AUC: \", roc_auc_dt)"
   ]
  },
  {
   "cell_type": "code",
   "execution_count": 89,
   "id": "28636728",
   "metadata": {},
   "outputs": [
    {
     "name": "stdout",
     "output_type": "stream",
     "text": [
      "[[1855653   50411]\n",
      " [     59    2400]]\n"
     ]
    }
   ],
   "source": [
    "print(confusion_matrix(Y_test, y_PRd))         # under sampling"
   ]
  },
  {
   "cell_type": "code",
   "execution_count": 90,
   "id": "21741b86",
   "metadata": {},
   "outputs": [
    {
     "data": {
      "image/png": "[encoded data removed]",
      "text/plain": [
       "<Figure size 600x400 with 2 Axes>"
      ]
     },
     "metadata": {},
     "output_type": "display_data"
    }
   ],
   "source": [
    "cm = confusion_matrix(Y_test, y_PRd)\n",
    "\n",
    "plt.figure(figsize=(6, 4))\n",
    "sns.heatmap(cm, annot=True, fmt=\"d\", cmap=\"Blues\")\n",
    "plt.xlabel(\"Predicted Labels\")\n",
    "plt.ylabel(\"Actual Labels\")\n",
    "plt.title(\"Confusion Matrix for Decision Tree\")\n",
    "plt.show()"
   ]
  },
  {
   "cell_type": "code",
   "execution_count": 91,
   "id": "b299e48e",
   "metadata": {},
   "outputs": [
    {
     "name": "stdout",
     "output_type": "stream",
     "text": [
      "              precision    recall  f1-score   support\n",
      "\n",
      "           0       1.00      0.97      0.99   1906064\n",
      "           1       0.05      0.98      0.09      2459\n",
      "\n",
      "    accuracy                           0.97   1908523\n",
      "   macro avg       0.52      0.97      0.54   1908523\n",
      "weighted avg       1.00      0.97      0.99   1908523\n",
      "\n"
     ]
    }
   ],
   "source": [
    "print(classification_report(Y_test, y_PRd)) "
   ]
  },
  {
   "cell_type": "markdown",
   "id": "1b3810e3",
   "metadata": {},
   "source": [
    "### KNN"
   ]
  },
  {
   "cell_type": "code",
   "execution_count": 93,
   "id": "9d1ac188",
   "metadata": {},
   "outputs": [
    {
     "data": {
      "text/plain": [
       "KNeighborsClassifier()"
      ]
     },
     "execution_count": 93,
     "metadata": {},
     "output_type": "execute_result"
    }
   ],
   "source": [
    "k_nn = KNeighborsClassifier()\n",
    "k_nn.fit(X_train_scau, Y_train_re)"
   ]
  },
  {
   "cell_type": "code",
   "execution_count": 94,
   "id": "f49a5cd1",
   "metadata": {},
   "outputs": [
    {
     "name": "stderr",
     "output_type": "stream",
     "text": [
      "C:\\Users\\Rishika\\anaconda3\\lib\\site-packages\\sklearn\\neighbors\\_classification.py:228: FutureWarning: Unlike other reduction functions (e.g. `skew`, `kurtosis`), the default behavior of `mode` typically preserves the axis it acts along. In SciPy 1.11.0, this behavior will change: the default value of `keepdims` will become False, the `axis` over which the statistic is taken will be eliminated, and the value None will no longer be accepted. Set `keepdims` to True or False to avoid this warning.\n",
      "  mode, _ = stats.mode(_y[neigh_ind, k], axis=1)\n"
     ]
    }
   ],
   "source": [
    "y_PREd = k_nn.predict(X_test_scau)"
   ]
  },
  {
   "cell_type": "code",
   "execution_count": 127,
   "id": "baecbf32",
   "metadata": {},
   "outputs": [
    {
     "name": "stdout",
     "output_type": "stream",
     "text": [
      "KNN:\n",
      "\n",
      "Accuracy:  0.9486047587584745\n",
      "Precision:  0.024276191423738932\n",
      "Recall:  0.9922732818218788\n",
      "F1_score:  0.04739290466062601\n"
     ]
    }
   ],
   "source": [
    "accuracy = accuracy_score(Y_test, y_PREd)\n",
    "precision = precision_score(Y_test,y_PREd)\n",
    "recall = recall_score(Y_test, y_PREd)\n",
    "f1 = f1_score(Y_test, y_PREd)\n",
    "\n",
    "print(\"KNN:\\n\")\n",
    "print(\"Accuracy: \", accuracy)\n",
    "print(\"Precision: \", precision)\n",
    "print(\"Recall: \", recall)\n",
    "print(\"F1_score: \", f1)"
   ]
  },
  {
   "cell_type": "code",
   "execution_count": 129,
   "id": "8a59a851",
   "metadata": {},
   "outputs": [
    {
     "name": "stdout",
     "output_type": "stream",
     "text": [
      "KNN ROC AUC:  0.9898911195857956\n"
     ]
    }
   ],
   "source": [
    "y_PREd_prob = k_nn.predict_proba(X_test_scau)[:,1]\n",
    "roc_auc_knn = roc_auc_score(Y_test, y_PREd_prob)\n",
    "print(\"KNN ROC AUC: \", roc_auc_knn)"
   ]
  },
  {
   "cell_type": "code",
   "execution_count": 96,
   "id": "04a75ee4",
   "metadata": {},
   "outputs": [
    {
     "name": "stdout",
     "output_type": "stream",
     "text": [
      "[[1807994   98070]\n",
      " [     19    2440]]\n"
     ]
    }
   ],
   "source": [
    "print(confusion_matrix(Y_test, y_PREd))"
   ]
  },
  {
   "cell_type": "code",
   "execution_count": 97,
   "id": "d405fac4",
   "metadata": {},
   "outputs": [
    {
     "data": {
      "image/png": "[encoded data removed]",
      "text/plain": [
       "<Figure size 600x400 with 2 Axes>"
      ]
     },
     "metadata": {},
     "output_type": "display_data"
    }
   ],
   "source": [
    "cm = confusion_matrix(Y_test, y_PREd)\n",
    "\n",
    "plt.figure(figsize=(6, 4))\n",
    "sns.heatmap(cm, annot=True, fmt=\"d\", cmap=\"Blues\")\n",
    "plt.xlabel(\"Predicted Labels\")\n",
    "plt.ylabel(\"Actual Labels\")\n",
    "plt.title(\"Confusion Matrix for KNN\")\n",
    "plt.show()"
   ]
  },
  {
   "cell_type": "code",
   "execution_count": 98,
   "id": "dac97dc0",
   "metadata": {},
   "outputs": [
    {
     "name": "stdout",
     "output_type": "stream",
     "text": [
      "              precision    recall  f1-score   support\n",
      "\n",
      "           0       1.00      0.95      0.97   1906064\n",
      "           1       0.02      0.99      0.05      2459\n",
      "\n",
      "    accuracy                           0.95   1908523\n",
      "   macro avg       0.51      0.97      0.51   1908523\n",
      "weighted avg       1.00      0.95      0.97   1908523\n",
      "\n"
     ]
    }
   ],
   "source": [
    "print(classification_report(Y_test, y_PREd))             #under sampling"
   ]
  },
  {
   "cell_type": "markdown",
   "id": "8070f391",
   "metadata": {},
   "source": [
    "### Random Forest"
   ]
  },
  {
   "cell_type": "code",
   "execution_count": 100,
   "id": "7ccc131f",
   "metadata": {},
   "outputs": [
    {
     "data": {
      "text/plain": [
       "RandomForestClassifier(class_weight='balanced')"
      ]
     },
     "execution_count": 100,
     "metadata": {},
     "output_type": "execute_result"
    }
   ],
   "source": [
    "rf = RandomForestClassifier(class_weight='balanced')\n",
    "rf.fit(X_train_scau, Y_train_re)"
   ]
  },
  {
   "cell_type": "code",
   "execution_count": 101,
   "id": "0bbc0779",
   "metadata": {},
   "outputs": [],
   "source": [
    "y_PRE = rf.predict(X_test_scau)"
   ]
  },
  {
   "cell_type": "code",
   "execution_count": 130,
   "id": "ba541e30",
   "metadata": {},
   "outputs": [
    {
     "name": "stdout",
     "output_type": "stream",
     "text": [
      "Random Forest:\n",
      "\n",
      "Accuracy:  0.9724813376626847\n",
      "Precision:  0.044444444444444446\n",
      "Recall:  0.9930866205774705\n",
      "F1_score:  0.08508117901191554\n"
     ]
    }
   ],
   "source": [
    "accuracy = accuracy_score(Y_test, y_PRE)\n",
    "precision = precision_score(Y_test, y_PRE)\n",
    "recall = recall_score(Y_test, y_PRE)\n",
    "f1 = f1_score(Y_test, y_PRE)\n",
    "\n",
    "print(\"Random Forest:\\n\")\n",
    "print(\"Accuracy: \", accuracy)\n",
    "print(\"Precision: \", precision)\n",
    "print(\"Recall: \", recall)\n",
    "print(\"F1_score: \", f1)"
   ]
  },
  {
   "cell_type": "code",
   "execution_count": 131,
   "id": "d0625bef",
   "metadata": {},
   "outputs": [
    {
     "name": "stdout",
     "output_type": "stream",
     "text": [
      "Random Forest ROC AUC:  0.9981855214724787\n"
     ]
    }
   ],
   "source": [
    "y_PRE_prob = rf.predict_proba(X_test_scau)[:,1]\n",
    "roc_auc_rf = roc_auc_score(Y_test, y_PRE_prob)\n",
    "print(\"Random Forest ROC AUC: \", roc_auc_rf)"
   ]
  },
  {
   "cell_type": "code",
   "execution_count": 103,
   "id": "21afed69",
   "metadata": {},
   "outputs": [
    {
     "name": "stdout",
     "output_type": "stream",
     "text": [
      "[[1853561   52503]\n",
      " [     17    2442]]\n"
     ]
    }
   ],
   "source": [
    "print(confusion_matrix(Y_test, y_PRE))              # under sampling"
   ]
  },
  {
   "cell_type": "code",
   "execution_count": 104,
   "id": "0cdadab1",
   "metadata": {},
   "outputs": [
    {
     "data": {
      "image/png": "[encoded data removed]",
      "text/plain": [
       "<Figure size 600x400 with 2 Axes>"
      ]
     },
     "metadata": {},
     "output_type": "display_data"
    }
   ],
   "source": [
    "cm = confusion_matrix(Y_test, y_PRE)\n",
    "\n",
    "plt.figure(figsize=(6, 4))\n",
    "sns.heatmap(cm, annot=True, fmt=\"d\", cmap=\"Blues\")\n",
    "plt.xlabel(\"Predicted Labels\")\n",
    "plt.ylabel(\"Actual Labels\")\n",
    "plt.title(\"Confusion Matrix for Random Forest\")\n",
    "plt.show()"
   ]
  },
  {
   "cell_type": "markdown",
   "id": "746f2a4c",
   "metadata": {},
   "source": [
    "### Optimized Random Forest without thresholding"
   ]
  },
  {
   "cell_type": "code",
   "execution_count": 106,
   "id": "709be689",
   "metadata": {},
   "outputs": [],
   "source": [
    "from sklearn.model_selection import GridSearchCV"
   ]
  },
  {
   "cell_type": "code",
   "execution_count": 107,
   "id": "05928ae1",
   "metadata": {},
   "outputs": [
    {
     "name": "stdout",
     "output_type": "stream",
     "text": [
      "Fitting 5 folds for each of 324 candidates, totalling 1620 fits\n",
      "Best Parameters: {'max_depth': 30, 'max_features': 'log2', 'min_samples_leaf': 1, 'min_samples_split': 2, 'n_estimators': 200}\n"
     ]
    }
   ],
   "source": [
    "# random forest parameter grid\n",
    "\n",
    "param_grid = {\n",
    "    'n_estimators': [50, 100, 200],\n",
    "    'max_depth': [None, 10, 20, 30],\n",
    "    'min_samples_split': [2, 5, 10],\n",
    "    'min_samples_leaf': [1, 2, 4],\n",
    "    'max_features': ['auto', 'sqrt', 'log2']\n",
    "}\n",
    "\n",
    "grid_search = GridSearchCV(estimator=RandomForestClassifier(class_weight=\"balanced\", random_state=42),\n",
    "                           param_grid=param_grid,\n",
    "                           scoring='f1',\n",
    "                           cv=5, n_jobs=-1, verbose=2)\n",
    "grid_search.fit(X_train_scau, Y_train_re)\n",
    "\n",
    "# Best parameters and model\n",
    "print(\"Best Parameters:\", grid_search.best_params_)\n",
    "best_model = grid_search.best_estimator_"
   ]
  },
  {
   "cell_type": "code",
   "execution_count": 132,
   "id": "2dc8374b",
   "metadata": {},
   "outputs": [
    {
     "name": "stdout",
     "output_type": "stream",
     "text": [
      "Optimized Random Forest:\n",
      "\n",
      "Accuracy:  0.9747296731556288\n",
      "Precision:  0.048298594662877\n",
      "Recall:  0.9951199674664498\n",
      "F1_score:  0.09212582120738663\n"
     ]
    }
   ],
   "source": [
    "y_predi = best_model.predict(X_test_scau)\n",
    "\n",
    "accuracy = accuracy_score(Y_test, y_predi)\n",
    "precision = precision_score(Y_test, y_predi)\n",
    "recall = recall_score(Y_test, y_predi)\n",
    "f1 = f1_score(Y_test, y_predi)\n",
    "\n",
    "print(\"Optimized Random Forest:\\n\")\n",
    "print(\"Accuracy: \", accuracy)\n",
    "print(\"Precision: \", precision)\n",
    "print(\"Recall: \", recall)\n",
    "print(\"F1_score: \", f1)"
   ]
  },
  {
   "cell_type": "code",
   "execution_count": 134,
   "id": "a134fd4e",
   "metadata": {},
   "outputs": [
    {
     "name": "stdout",
     "output_type": "stream",
     "text": [
      "Optimized Random Forest ROC AUC:  0.9984259743772382\n"
     ]
    }
   ],
   "source": [
    "y_predi_prob = best_model.predict_proba(X_test_scau)[:,1]\n",
    "roc_auc_grf = roc_auc_score(Y_test, y_predi_prob)\n",
    "print(\"Optimized Random Forest ROC AUC: \", roc_auc_grf)"
   ]
  },
  {
   "cell_type": "code",
   "execution_count": 109,
   "id": "5afe6b7a",
   "metadata": {},
   "outputs": [
    {
     "name": "stdout",
     "output_type": "stream",
     "text": [
      "[[1857847   48217]\n",
      " [     12    2447]]\n"
     ]
    }
   ],
   "source": [
    "print(confusion_matrix(Y_test, y_predi))"
   ]
  },
  {
   "cell_type": "code",
   "execution_count": 110,
   "id": "b31e6894",
   "metadata": {},
   "outputs": [
    {
     "data": {
      "image/png": "[encoded data removed]",
      "text/plain": [
       "<Figure size 600x400 with 2 Axes>"
      ]
     },
     "metadata": {},
     "output_type": "display_data"
    }
   ],
   "source": [
    "cm = confusion_matrix(Y_test, y_predi)\n",
    "\n",
    "plt.figure(figsize=(6, 4))\n",
    "sns.heatmap(cm, annot=True, fmt=\"d\", cmap=\"Blues\")\n",
    "plt.xlabel(\"Predicted Labels\")\n",
    "plt.ylabel(\"Actual Labels\")\n",
    "plt.title(\"Confusion Matrix for Optimized RF\")\n",
    "plt.show()"
   ]
  },
  {
   "cell_type": "markdown",
   "id": "8e28c108",
   "metadata": {},
   "source": [
    "### Optimized Random Forest with thresholding "
   ]
  },
  {
   "cell_type": "code",
   "execution_count": 138,
   "id": "e0fa146e",
   "metadata": {},
   "outputs": [
    {
     "name": "stdout",
     "output_type": "stream",
     "text": [
      "Fitting 5 folds for each of 324 candidates, totalling 1620 fits\n",
      "Best Parameters: {'max_depth': 30, 'max_features': 'log2', 'min_samples_leaf': 1, 'min_samples_split': 2, 'n_estimators': 200}\n",
      "Best Threshold (max F1): 0.995\n",
      "Max F1-score: 0.7522545875588688\n",
      "\n",
      "Optimized Random Forest (Threshold Tuned):\n",
      "\n",
      "Accuracy:  0.9993811968731842\n",
      "Precision:  0.7768630849220104\n",
      "Recall:  0.7291581943879626\n",
      "F1_score:  0.7522550870568492\n"
     ]
    }
   ],
   "source": [
    "# Optimized Random Forest with thresholding \n",
    "param_grid = {\n",
    "    'n_estimators': [50, 100, 200],\n",
    "    'max_depth': [None, 10, 20, 30],\n",
    "    'min_samples_split': [2, 5, 10],\n",
    "    'min_samples_leaf': [1, 2, 4],\n",
    "    'max_features': ['auto', 'sqrt', 'log2']\n",
    "}\n",
    "\n",
    "# Grid search with F1 scoring\n",
    "grid_search = GridSearchCV(\n",
    "    estimator=RandomForestClassifier(class_weight=\"balanced\", random_state=42),\n",
    "    param_grid=param_grid,\n",
    "    scoring='f1',\n",
    "    cv=5, n_jobs=-1, verbose=2\n",
    ")\n",
    "\n",
    "grid_search.fit(X_train_scau, Y_train_re)\n",
    "\n",
    "# Best model and parameters\n",
    "print(\"Best Parameters:\", grid_search.best_params_)\n",
    "best_model = grid_search.best_estimator_\n",
    "\n",
    "# Get predicted probabilities for the positive class\n",
    "y_probs = best_model.predict_proba(X_test_scau)[:, 1]\n",
    "\n",
    "# Compute precision, recall, thresholds\n",
    "precision, recall, thresholds = precision_recall_curve(Y_test, y_probs)\n",
    "\n",
    "# Compute the F1-score at each threshold obtained from the precision_recall_curve\n",
    "f1_scores = 2 * (precision * recall) / (precision + recall + 1e-6)\n",
    "\n",
    "# Find the best threshold\n",
    "best_threshold = thresholds[np.argmax(f1_scores)]\n",
    "print(\"Best Threshold (max F1):\", best_threshold)\n",
    "print(\"Max F1-score:\", np.max(f1_scores))\n",
    "\n",
    "# Predict using best threshold\n",
    "y_predi_thresh = (y_probs >= best_threshold).astype(int)\n",
    "\n",
    "# Final evaluation\n",
    "accuracy = accuracy_score(Y_test, y_predi_thresh)\n",
    "precision_final = precision_score(Y_test, y_predi_thresh)\n",
    "recall_final = recall_score(Y_test, y_predi_thresh)\n",
    "f1_final = f1_score(Y_test, y_predi_thresh)\n",
    "\n",
    "print(\"\\nOptimized Random Forest (Threshold Tuned):\\n\")\n",
    "print(\"Accuracy: \", accuracy)\n",
    "print(\"Precision: \", precision_final)\n",
    "print(\"Recall: \", recall_final)\n",
    "print(\"F1_score: \", f1_final)"
   ]
  },
  {
   "cell_type": "code",
   "execution_count": 139,
   "id": "ed065cf5",
   "metadata": {},
   "outputs": [
    {
     "name": "stdout",
     "output_type": "stream",
     "text": [
      "              precision    recall  f1-score   support\n",
      "\n",
      "           0       1.00      1.00      1.00   1906064\n",
      "           1       0.78      0.73      0.75      2459\n",
      "\n",
      "    accuracy                           1.00   1908523\n",
      "   macro avg       0.89      0.86      0.88   1908523\n",
      "weighted avg       1.00      1.00      1.00   1908523\n",
      "\n"
     ]
    }
   ],
   "source": [
    "print(classification_report(Y_test, y_predi_thresh))"
   ]
  },
  {
   "cell_type": "code",
   "execution_count": 141,
   "id": "17902ed2",
   "metadata": {},
   "outputs": [
    {
     "name": "stdout",
     "output_type": "stream",
     "text": [
      "[[1905549     515]\n",
      " [    666    1793]]\n"
     ]
    }
   ],
   "source": [
    "print(confusion_matrix(Y_test, y_predi_thresh))"
   ]
  },
  {
   "cell_type": "code",
   "execution_count": 149,
   "id": "62eef451",
   "metadata": {},
   "outputs": [
    {
     "data": {
      "image/png": "[encoded data removed]",
      "text/plain": [
       "<Figure size 600x400 with 2 Axes>"
      ]
     },
     "metadata": {},
     "output_type": "display_data"
    }
   ],
   "source": [
    "cm = confusion_matrix(Y_test, y_predi_thresh)\n",
    "\n",
    "plt.figure(figsize=(6, 4))\n",
    "sns.heatmap(cm, annot=True, fmt=\"d\", cmap=\"Blues\")\n",
    "plt.xlabel(\"Predicted Labels\")\n",
    "plt.ylabel(\"Actual Labels\")\n",
    "plt.title(\"Confusion Matrix for Optimized RF\")\n",
    "plt.show()"
   ]
  },
  {
   "cell_type": "markdown",
   "id": "ded4afdf",
   "metadata": {},
   "source": [
    "### XGBoost"
   ]
  },
  {
   "cell_type": "code",
   "execution_count": 160,
   "id": "3920fa19",
   "metadata": {},
   "outputs": [
    {
     "name": "stdout",
     "output_type": "stream",
     "text": [
      "Fitting 3 folds for each of 30 candidates, totalling 90 fits\n"
     ]
    },
    {
     "name": "stderr",
     "output_type": "stream",
     "text": [
      "C:\\Users\\Rishika\\anaconda3\\lib\\site-packages\\xgboost\\core.py:158: UserWarning: [18:42:24] WARNING: C:\\buildkite-agent\\builds\\buildkite-windows-cpu-autoscaling-group-i-0ed59c031377d09b8-1\\xgboost\\xgboost-ci-windows\\src\\learner.cc:740: \n",
      "Parameters: { \"use_label_encoder\" } are not used.\n",
      "\n",
      "  warnings.warn(smsg, UserWarning)\n"
     ]
    },
    {
     "name": "stdout",
     "output_type": "stream",
     "text": [
      "Best Parameters:\n",
      " {'subsample': 0.9, 'scale_pos_weight': 1, 'n_estimators': 250, 'max_depth': 5, 'learning_rate': 0.2, 'colsample_bytree': 1.0}\n",
      "\n",
      " XGBoost with RandomizedSearchCV + Threshold Tuned:\n",
      "Accuracy:  0.9829166323905973\n",
      "Precision:  0.06988556915789174\n",
      "Recall:  0.9959333062220415\n",
      "F1_score:  0.13060636766039146\n",
      "ROC AUC:  0.999113256792744\n",
      "\n",
      "Confusion Matrix:\n",
      " [[1873470   32594]\n",
      " [     10    2449]]\n"
     ]
    }
   ],
   "source": [
    "# Manual value lists for hyperparameters\n",
    "param_dist = {\n",
    "    'n_estimators': [100, 150, 200, 250, 300],\n",
    "    'max_depth': [3, 4, 5, 6, 8, 10],\n",
    "    'learning_rate': [0.01, 0.05, 0.1, 0.2, 0.3],\n",
    "    'subsample': [0.7, 0.8, 0.9, 1.0],\n",
    "    'colsample_bytree': [0.7, 0.8, 0.9, 1.0],\n",
    "    'scale_pos_weight': [1, (Y_train == 0).sum() / (Y_train == 1).sum()]\n",
    "}\n",
    "\n",
    "# Randomized search\n",
    "xgb = XGBClassifier(use_label_encoder=False, eval_metric='logloss', random_state=42)\n",
    "\n",
    "random_search = RandomizedSearchCV(\n",
    "    estimator=xgb,\n",
    "    param_distributions=param_dist,\n",
    "    scoring='f1',\n",
    "    n_iter=30,\n",
    "    cv=3,\n",
    "    verbose=2,\n",
    "    random_state=42,\n",
    "    n_jobs=-1\n",
    ")\n",
    "\n",
    "random_search.fit(X_train_scau, Y_train_re)\n",
    "xgb = random_search.best_estimator_\n",
    "print(\"Best Parameters:\\n\", random_search.best_params_)\n",
    "\n",
    "# Predict probabilities\n",
    "y_probs = xgb.predict_proba(X_test_scau)[:, 1]\n",
    "\n",
    "y_pred_rand = xgb.predict(X_test_scau)\n",
    "\n",
    "# Evaluation\n",
    "accuracy = accuracy_score(Y_test, y_pred_rand)\n",
    "precision = precision_score(Y_test, y_pred_rand)\n",
    "recall = recall_score(Y_test, y_pred_rand)\n",
    "f1 = f1_score(Y_test, y_pred_rand)\n",
    "roc_auc = roc_auc_score(Y_test, y_probs)\n",
    "cm = confusion_matrix(Y_test, y_pred_rand)\n",
    "\n",
    "print(\"\\n XGBoost:\")\n",
    "print(\"Accuracy: \", accuracy)\n",
    "print(\"Precision: \", precision)\n",
    "print(\"Recall: \", recall)\n",
    "print(\"F1_score: \", f1)\n",
    "print(\"ROC AUC: \", roc_auc)\n",
    "print(\"\\nConfusion Matrix:\\n\", cm)"
   ]
  },
  {
   "cell_type": "code",
   "execution_count": 161,
   "id": "8e055281",
   "metadata": {},
   "outputs": [
    {
     "data": {
      "image/png": "[encoded data removed]",
      "text/plain": [
       "<Figure size 600x400 with 2 Axes>"
      ]
     },
     "metadata": {},
     "output_type": "display_data"
    }
   ],
   "source": [
    "cm = confusion_matrix(Y_test, y_pred_rand)\n",
    "\n",
    "plt.figure(figsize=(6, 4))\n",
    "sns.heatmap(cm, annot=True, fmt=\"d\", cmap=\"Blues\")\n",
    "plt.xlabel(\"Predicted Labels\")\n",
    "plt.ylabel(\"Actual Labels\")\n",
    "plt.title(\"Confusion Matrix for Optimized XGBoost\")\n",
    "plt.show()"
   ]
  },
  {
   "cell_type": "code",
   "execution_count": 146,
   "id": "cd2aaa7f",
   "metadata": {},
   "outputs": [
    {
     "name": "stdout",
     "output_type": "stream",
     "text": [
      "Fitting 3 folds for each of 96 candidates, totalling 288 fits\n"
     ]
    },
    {
     "name": "stderr",
     "output_type": "stream",
     "text": [
      "C:\\Users\\Rishika\\anaconda3\\lib\\site-packages\\xgboost\\core.py:158: UserWarning: [18:04:44] WARNING: C:\\buildkite-agent\\builds\\buildkite-windows-cpu-autoscaling-group-i-0ed59c031377d09b8-1\\xgboost\\xgboost-ci-windows\\src\\learner.cc:740: \n",
      "Parameters: { \"use_label_encoder\" } are not used.\n",
      "\n",
      "  warnings.warn(smsg, UserWarning)\n"
     ]
    },
    {
     "name": "stdout",
     "output_type": "stream",
     "text": [
      "Best Parameters:\n",
      " {'colsample_bytree': 0.8, 'learning_rate': 0.1, 'max_depth': 6, 'n_estimators': 200, 'scale_pos_weight': 1, 'subsample': 0.8}\n",
      "\n",
      "Best Threshold (max F1): 0.99\n",
      "\n",
      " XGBoost with Threshold Tuned:\n",
      "Accuracy:  0.999090396081158\n",
      "Precision:  0.6059806508355321\n",
      "Recall:  0.840585603904026\n",
      "F1_score:  0.704258943781942\n",
      "ROC AUC:  0.999052419517746\n",
      "\n",
      "Confusion Matrix:\n",
      " [[1904720    1344]\n",
      " [    392    2067]]\n"
     ]
    }
   ],
   "source": [
    "# Define parameter grid for XGBoost\n",
    "from xgboost import XGBClassifier\n",
    "param_grid = {\n",
    "    'n_estimators': [100, 200],\n",
    "    'max_depth': [3, 6, 10],\n",
    "    'learning_rate': [0.01, 0.1],\n",
    "    'subsample': [0.8, 1],\n",
    "    'colsample_bytree': [0.8, 1],\n",
    "    'scale_pos_weight': [1, (Y_train == 0).sum() / (Y_train == 1).sum()]  # handle imbalance\n",
    "}\n",
    "\n",
    "# Grid Search\n",
    "xgb = XGBClassifier(use_label_encoder=False, eval_metric='logloss', random_state=42)\n",
    "grid_search = GridSearchCV(xgb, param_grid, scoring='f1', cv=3, verbose=2, n_jobs=-1)\n",
    "grid_search.fit(X_train_scau, Y_train_re)\n",
    "\n",
    "best_xgb = grid_search.best_estimator_\n",
    "print(\"Best Parameters:\\n\", grid_search.best_params_)\n",
    "\n",
    "# Predict probabilities and tune threshold\n",
    "y_probs = best_xgb.predict_proba(X_test_scau)[:, 1]\n",
    "\n",
    "thresholds = np.arange(0.01, 1.0, 0.01)\n",
    "f1_scores = [f1_score(Y_test, (y_probs >= t).astype(int)) for t in thresholds]\n",
    "\n",
    "best_threshold = thresholds[np.argmax(f1_scores)]\n",
    "print(f\"\\nBest Threshold (max F1): {best_threshold}\")\n",
    "\n",
    "# Final prediction using best threshold\n",
    "y_pred = (y_probs >= best_threshold).astype(int)\n",
    "\n",
    "# Evaluation\n",
    "accuracy = accuracy_score(Y_test, y_pred)\n",
    "precision = precision_score(Y_test, y_pred)\n",
    "recall = recall_score(Y_test, y_pred)\n",
    "f1 = f1_score(Y_test, y_pred)\n",
    "roc_auc = roc_auc_score(Y_test, y_probs)\n",
    "cm = confusion_matrix(Y_test, y_pred)\n",
    "\n",
    "print(\"\\n XGBoost with Threshold Tuned:\")\n",
    "print(\"Accuracy: \", accuracy)\n",
    "print(\"Precision: \", precision)\n",
    "print(\"Recall: \", recall)\n",
    "print(\"F1_score: \", f1)\n",
    "print(\"ROC AUC: \", roc_auc)\n",
    "print(\"\\nConfusion Matrix:\\n\", cm)"
   ]
  },
  {
   "cell_type": "code",
   "execution_count": 150,
   "id": "54860307",
   "metadata": {},
   "outputs": [
    {
     "name": "stdout",
     "output_type": "stream",
     "text": [
      "              precision    recall  f1-score   support\n",
      "\n",
      "           0       1.00      1.00      1.00   1906064\n",
      "           1       0.61      0.84      0.70      2459\n",
      "\n",
      "    accuracy                           1.00   1908523\n",
      "   macro avg       0.80      0.92      0.85   1908523\n",
      "weighted avg       1.00      1.00      1.00   1908523\n",
      "\n"
     ]
    }
   ],
   "source": [
    "print(classification_report(Y_test, y_pred))"
   ]
  },
  {
   "cell_type": "code",
   "execution_count": 148,
   "id": "c573a797",
   "metadata": {},
   "outputs": [
    {
     "data": {
      "image/png": "[encoded data removed]",
      "text/plain": [
       "<Figure size 600x400 with 2 Axes>"
      ]
     },
     "metadata": {},
     "output_type": "display_data"
    }
   ],
   "source": [
    "cm = confusion_matrix(Y_test, y_pred)\n",
    "\n",
    "plt.figure(figsize=(6, 4))\n",
    "sns.heatmap(cm, annot=True, fmt=\"d\", cmap=\"Blues\")\n",
    "plt.xlabel(\"Predicted Labels\")\n",
    "plt.ylabel(\"Actual Labels\")\n",
    "plt.title(\"Confusion Matrix for Optimized XGBoost\")\n",
    "plt.show()"
   ]
  },
  {
   "cell_type": "markdown",
   "id": "2e6263e2",
   "metadata": {},
   "source": [
    "### XGBoost with Randomized search CV and Threshold tunning"
   ]
  },
  {
   "cell_type": "code",
   "execution_count": 172,
   "id": "1adcc19b",
   "metadata": {},
   "outputs": [
    {
     "name": "stdout",
     "output_type": "stream",
     "text": [
      "Fitting 3 folds for each of 30 candidates, totalling 90 fits\n"
     ]
    },
    {
     "name": "stderr",
     "output_type": "stream",
     "text": [
      "C:\\Users\\Rishika\\anaconda3\\lib\\site-packages\\xgboost\\core.py:158: UserWarning: [23:38:17] WARNING: C:\\buildkite-agent\\builds\\buildkite-windows-cpu-autoscaling-group-i-0ed59c031377d09b8-1\\xgboost\\xgboost-ci-windows\\src\\learner.cc:740: \n",
      "Parameters: { \"use_label_encoder\" } are not used.\n",
      "\n",
      "  warnings.warn(smsg, UserWarning)\n"
     ]
    },
    {
     "name": "stdout",
     "output_type": "stream",
     "text": [
      "Best Parameters:\n",
      " {'subsample': 0.9, 'scale_pos_weight': 1, 'n_estimators': 250, 'max_depth': 5, 'learning_rate': 0.2, 'colsample_bytree': 1.0}\n",
      "\n",
      "Best Threshold (max F1): 0.99\n",
      "\n",
      " XGBoost with RandomizedSearchCV + Threshold Tuned:\n",
      "Accuracy:  0.9982122300857784\n",
      "Precision:  0.4115791426980887\n",
      "Recall:  0.9019926799511997\n",
      "F1_score:  0.5652395514780836\n",
      "ROC AUC:  0.999113256792744\n",
      "\n",
      "Confusion Matrix:\n",
      " [[1902893    3171]\n",
      " [    241    2218]]\n"
     ]
    }
   ],
   "source": [
    "from sklearn.model_selection import RandomizedSearchCV\n",
    "\n",
    "# Manual value lists for hyperparameters\n",
    "param_dist = {\n",
    "    'n_estimators': [100, 150, 200, 250, 300],\n",
    "    'max_depth': [3, 4, 5, 6, 8, 10],\n",
    "    'learning_rate': [0.01, 0.05, 0.1, 0.2, 0.3],\n",
    "    'subsample': [0.7, 0.8, 0.9, 1.0],\n",
    "    'colsample_bytree': [0.7, 0.8, 0.9, 1.0],\n",
    "    'scale_pos_weight': [1, (Y_train == 0).sum() / (Y_train == 1).sum()]\n",
    "}\n",
    "\n",
    "# Randomized search\n",
    "xgb = XGBClassifier(use_label_encoder=False, eval_metric='logloss', random_state=42)\n",
    "\n",
    "random_search = RandomizedSearchCV(\n",
    "    estimator=xgb,\n",
    "    param_distributions=param_dist,\n",
    "    scoring='f1',\n",
    "    n_iter=30,\n",
    "    cv=3,\n",
    "    verbose=2,\n",
    "    random_state=42,\n",
    "    n_jobs=-1\n",
    ")\n",
    "\n",
    "random_search.fit(X_train_scau, Y_train_re)\n",
    "xgb_ran = random_search.best_estimator_\n",
    "print(\"Best Parameters:\\n\", random_search.best_params_)\n",
    "\n",
    "# Predict probabilities\n",
    "y_probs = xgb_ran.predict_proba(X_test_scau)[:, 1]\n",
    "\n",
    "# Threshold tuning (optimize F1-score)\n",
    "thresholds = np.arange(0.01, 1.0, 0.01)\n",
    "f1_scores = [f1_score(Y_test, (y_probs >= t).astype(int)) for t in thresholds]\n",
    "\n",
    "best_threshold = thresholds[np.argmax(f1_scores)]\n",
    "print(f\"\\nBest Threshold (max F1): {best_threshold}\")\n",
    "\n",
    "# Final prediction using best threshold\n",
    "y_pred_ran = (y_probs >= best_threshold).astype(int)\n",
    "\n",
    "# Evaluation\n",
    "accuracy = accuracy_score(Y_test, y_pred_ran)\n",
    "precision = precision_score(Y_test, y_pred_ran)\n",
    "recall = recall_score(Y_test, y_pred_ran)\n",
    "f1 = f1_score(Y_test, y_pred_ran)\n",
    "roc_auc = roc_auc_score(Y_test, y_probs)\n",
    "cm = confusion_matrix(Y_test, y_pred_ran)\n",
    "\n",
    "print(\"\\n XGBoost with RandomizedSearchCV + Threshold Tuned:\")\n",
    "print(\"Accuracy: \", accuracy)\n",
    "print(\"Precision: \", precision)\n",
    "print(\"Recall: \", recall)\n",
    "print(\"F1_score: \", f1)\n",
    "print(\"ROC AUC: \", roc_auc)\n",
    "print(\"\\nConfusion Matrix:\\n\", cm)"
   ]
  },
  {
   "cell_type": "code",
   "execution_count": 173,
   "id": "e310f330",
   "metadata": {},
   "outputs": [
    {
     "data": {
      "image/png": "[encoded data removed]",
      "text/plain": [
       "<Figure size 600x400 with 2 Axes>"
      ]
     },
     "metadata": {},
     "output_type": "display_data"
    }
   ],
   "source": [
    "cm = confusion_matrix(Y_test, y_pred_ran)\n",
    "\n",
    "plt.figure(figsize=(6, 4))\n",
    "sns.heatmap(cm, annot=True, fmt=\"d\", cmap=\"Blues\")\n",
    "plt.xlabel(\"Predicted Labels\")\n",
    "plt.ylabel(\"Actual Labels\")\n",
    "plt.title(\"Confusion Matrix for Optimized XGBoost\")\n",
    "plt.show()"
   ]
  },
  {
   "cell_type": "code",
   "execution_count": 174,
   "id": "c1683e50",
   "metadata": {},
   "outputs": [
    {
     "name": "stdout",
     "output_type": "stream",
     "text": [
      "              precision    recall  f1-score   support\n",
      "\n",
      "           0       1.00      1.00      1.00   1906064\n",
      "           1       0.41      0.90      0.57      2459\n",
      "\n",
      "    accuracy                           1.00   1908523\n",
      "   macro avg       0.71      0.95      0.78   1908523\n",
      "weighted avg       1.00      1.00      1.00   1908523\n",
      "\n"
     ]
    }
   ],
   "source": [
    "print(classification_report(Y_test, y_pred_ran))"
   ]
  },
  {
   "cell_type": "markdown",
   "id": "6bf2aa03",
   "metadata": {},
   "source": [
    "* If our goal is a well-balanced model with high fraud detection capability and fewer false alarms, then we go with XGBoost with Threshold Tuning Only with Accuracy: 0.99, Precision: 0.61, Recall: 0.84, F1_score: 0.71, ROC AUC: 0.99.\n",
    "\n",
    "* However, if we want to catch as many frauds as possible even if the model raise more false alarms, then XGBoost with RandomizedSearchCV + Threshold Tuning with Accuracy: 0.99, Precision: 0.41, Recall: 0.90, F1_score: 0.57, ROC AUC: 0.99"
   ]
  },
  {
   "cell_type": "code",
   "execution_count": null,
   "id": "f368056d",
   "metadata": {},
   "outputs": [],
   "source": []
  },
  {
   "cell_type": "code",
   "execution_count": null,
   "id": "155aec31",
   "metadata": {},
   "outputs": [],
   "source": []
  }
 ],
 "metadata": {
  "kernelspec": {
   "display_name": "Python 3 (ipykernel)",
   "language": "python",
   "name": "python3"
  },
  "language_info": {
   "codemirror_mode": {
    "name": "ipython",
    "version": 3
   },
   "file_extension": ".py",
   "mimetype": "text/x-python",
   "name": "python",
   "nbconvert_exporter": "python",
   "pygments_lexer": "ipython3",
   "version": "3.9.13"
  }
 },
 "nbformat": 4,
 "nbformat_minor": 5
}
